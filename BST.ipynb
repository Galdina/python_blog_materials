{
 "cells": [
  {
   "cell_type": "code",
   "execution_count": 4,
   "metadata": {},
   "outputs": [],
   "source": [
    "class Solution(object):\n",
    "    def rangeSumBST(self, root, L, R):        \n",
    "        def dfs(node):            \n",
    "            if node:                \n",
    "                if L <= node.val <= R:                    \n",
    "                    self.ans += node.val                \n",
    "                if L < node.val:                    \n",
    "                    dfs(node.left)                \n",
    "                if node.val < R:                    \n",
    "                    dfs(node.right)        \n",
    "        self.ans = 0        \n",
    "        dfs(root)        \n",
    "                    \n",
    "        return self.ans"
   ]
  },
  {
   "cell_type": "code",
   "execution_count": null,
   "metadata": {},
   "outputs": [],
   "source": []
  }
 ],
 "metadata": {
  "kernelspec": {
   "display_name": "Python 3",
   "language": "python",
   "name": "python3"
  },
  "language_info": {
   "codemirror_mode": {
    "name": "ipython",
    "version": 3
   },
   "file_extension": ".py",
   "mimetype": "text/x-python",
   "name": "python",
   "nbconvert_exporter": "python",
   "pygments_lexer": "ipython3",
   "version": "3.7.4"
  }
 },
 "nbformat": 4,
 "nbformat_minor": 2
}
