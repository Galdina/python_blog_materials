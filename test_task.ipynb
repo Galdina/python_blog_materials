{
 "cells": [
  {
   "cell_type": "code",
   "execution_count": 1,
   "metadata": {},
   "outputs": [
    {
     "ename": "TypeError",
     "evalue": "expected str, bytes or os.PathLike object, not list",
     "output_type": "error",
     "traceback": [
      "\u001b[0;31m---------------------------------------------------------------------------\u001b[0m",
      "\u001b[0;31mTypeError\u001b[0m                                 Traceback (most recent call last)",
      "\u001b[0;32m<ipython-input-1-98b27a3df8fe>\u001b[0m in \u001b[0;36m<module>\u001b[0;34m\u001b[0m\n\u001b[1;32m      8\u001b[0m \u001b[0;31m#json_file = 'pizzas.json'\u001b[0m\u001b[0;34m\u001b[0m\u001b[0;34m\u001b[0m\u001b[0;34m\u001b[0m\u001b[0m\n\u001b[1;32m      9\u001b[0m \u001b[0;34m\u001b[0m\u001b[0m\n\u001b[0;32m---> 10\u001b[0;31m \u001b[0;32mwith\u001b[0m \u001b[0mopen\u001b[0m\u001b[0;34m(\u001b[0m\u001b[0mjson_file\u001b[0m\u001b[0;34m)\u001b[0m \u001b[0;32mas\u001b[0m \u001b[0mjson_data\u001b[0m\u001b[0;34m:\u001b[0m\u001b[0;34m\u001b[0m\u001b[0;34m\u001b[0m\u001b[0m\n\u001b[0m\u001b[1;32m     11\u001b[0m     \u001b[0mdata\u001b[0m \u001b[0;34m=\u001b[0m \u001b[0mjson\u001b[0m\u001b[0;34m.\u001b[0m\u001b[0mload\u001b[0m\u001b[0;34m(\u001b[0m\u001b[0mjson_data\u001b[0m\u001b[0;34m)\u001b[0m\u001b[0;34m\u001b[0m\u001b[0;34m\u001b[0m\u001b[0m\n\u001b[1;32m     12\u001b[0m \u001b[0;34m\u001b[0m\u001b[0m\n",
      "\u001b[0;31mTypeError\u001b[0m: expected str, bytes or os.PathLike object, not list"
     ]
    }
   ],
   "source": [
    "import json\n",
    "import urllib, urllib.request\n",
    "\n",
    "url = 'http://files.olo.com/pizzas.json'\n",
    "response = urllib.request.urlopen(url)# urlopen(url)\n",
    "#json_file = urllib.request.urlopen(url)# urlopen(url)\n",
    "json_file = json.loads(response.read().decode())\n",
    "#json_file = 'pizzas.json'\n",
    "\n",
    "with open(json_file) as json_data:\n",
    "    data = json.load(json_data)\n",
    "\n",
    "results = {}\n",
    "top = 20\n",
    "#Foreach “toppings”:\n",
    "for x in data:\n",
    "    topping = x['toppings']\n",
    "    #sort toppings alphabetically\n",
    "    topping.sort()\n",
    "    #concatenate toppings with separator @@\n",
    "    union_toppings = ''\n",
    "    for t in topping:\n",
    "        union_toppings += t + '@@'\n",
    "    #union_toppings is going to be the key\n",
    "    #if union_toppings contains such key - increase its value by 1, otherwise - add it with value 1\n",
    "    if union_toppings in results:\n",
    "        results[union_toppings] += 1\n",
    "    else: \n",
    "        results[union_toppings] = 1  \n",
    "#sort ‘results’ by values\n",
    "sorted_results = sorted(results.items() ,  key=lambda x: x[1], reverse=True)\n",
    "#take top 20, split keys by separator\n",
    "j = 0\n",
    "while j < top+50:\n",
    "    string = sorted_results[j]\n",
    "    m = ''\n",
    "    list_of_toppings = string[0].split(\"@@\")\n",
    "    #print(list_of_topping)\n",
    "    list_of_toppings.remove('')\n",
    "    if len(list_of_toppings) > 1:\n",
    "        for i in range(0,len(list_of_toppings)-1):\n",
    "            m += list_of_toppings[i] +', '\n",
    "        m += list_of_toppings[-1]    \n",
    "    else: m += list_of_toppings[0]       \n",
    "    print('pizza witn toppings: ' + str(m)  + ' is ordered ' + str(string[1]) + ' times')\n",
    "    j += 1 \n"
   ]
  },
  {
   "cell_type": "code",
   "execution_count": null,
   "metadata": {},
   "outputs": [],
   "source": []
  }
 ],
 "metadata": {
  "kernelspec": {
   "display_name": "Python 3",
   "language": "python",
   "name": "python3"
  },
  "language_info": {
   "codemirror_mode": {
    "name": "ipython",
    "version": 3
   },
   "file_extension": ".py",
   "mimetype": "text/x-python",
   "name": "python",
   "nbconvert_exporter": "python",
   "pygments_lexer": "ipython3",
   "version": "3.7.4"
  }
 },
 "nbformat": 4,
 "nbformat_minor": 2
}
