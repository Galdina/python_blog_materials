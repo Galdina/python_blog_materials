{
 "cells": [
  {
   "cell_type": "code",
   "execution_count": 1,
   "metadata": {},
   "outputs": [],
   "source": [
    "import pandas as pd\n",
    "import numpy as np\n",
    "import matplotlib.pyplot as plt\n",
    "import matplotlib.patches as mpatches"
   ]
  },
  {
   "cell_type": "code",
   "execution_count": 2,
   "metadata": {},
   "outputs": [],
   "source": [
    "df = pd.DataFrame({\n",
    "    'country': ['Argentina', 'Brazil', 'Cuba', 'Peru'],\n",
    "    'number': [212, 334, 1500, 130] \n",
    "})"
   ]
  },
  {
   "cell_type": "code",
   "execution_count": 3,
   "metadata": {},
   "outputs": [],
   "source": [
    "total = sum(df['number'])"
   ]
  },
  {
   "cell_type": "code",
   "execution_count": 4,
   "metadata": {},
   "outputs": [],
   "source": [
    "proportions = [(float(value) / total) for value in df['number']]"
   ]
  },
  {
   "cell_type": "code",
   "execution_count": 5,
   "metadata": {},
   "outputs": [],
   "source": [
    "width = 40\n",
    "height=10\n",
    "total= width * height"
   ]
  },
  {
   "cell_type": "code",
   "execution_count": 6,
   "metadata": {},
   "outputs": [],
   "source": [
    "tiles_per_category = [round(proportion * total) for proportion in proportions]"
   ]
  },
  {
   "cell_type": "code",
   "execution_count": 7,
   "metadata": {},
   "outputs": [],
   "source": [
    "waffle = np.zeros((height, width))\n",
    "category_index = 0\n",
    "tile_index = 0\n",
    "for col in range(width):\n",
    "    for row in range(height):\n",
    "        tile_index += 1\n",
    "        if tile_index > sum(tiles_per_category[0:category_index]):\n",
    "            category_index += 1\n",
    "        waffle[row, col] = category_index"
   ]
  },
  {
   "cell_type": "code",
   "execution_count": 8,
   "metadata": {},
   "outputs": [
    {
     "data": {
      "text/plain": [
       "<matplotlib.colorbar.Colorbar at 0x7fa56c9ee890>"
      ]
     },
     "execution_count": 8,
     "metadata": {},
     "output_type": "execute_result"
    },
    {
     "data": {
      "text/plain": [
       "<Figure size 432x288 with 0 Axes>"
      ]
     },
     "metadata": {},
     "output_type": "display_data"
    },
    {
     "data": {
      "image/png": "[encoded data removed]",
      "text/plain": [
       "<Figure size 1152x288 with 2 Axes>"
      ]
     },
     "metadata": {
      "needs_background": "light"
     },
     "output_type": "display_data"
    }
   ],
   "source": [
    "fig = plt.figure()\n",
    "colormap = plt.cm.coolwarm\n",
    "plt.matshow(waffle, cmap=colormap)\n",
    "plt.colorbar()"
   ]
  },
  {
   "cell_type": "code",
   "execution_count": 9,
   "metadata": {},
   "outputs": [
    {
     "data": {
      "text/plain": [
       "<matplotlib.colorbar.Colorbar at 0x7fa56ef72890>"
      ]
     },
     "execution_count": 9,
     "metadata": {},
     "output_type": "execute_result"
    },
    {
     "data": {
      "text/plain": [
       "<Figure size 432x288 with 0 Axes>"
      ]
     },
     "metadata": {},
     "output_type": "display_data"
    },
    {
     "data": {
      "image/png": "[encoded data removed]",
      "text/plain": [
       "<Figure size 1152x288 with 2 Axes>"
      ]
     },
     "metadata": {
      "needs_background": "light"
     },
     "output_type": "display_data"
    }
   ],
   "source": [
    "fig = plt.figure()\n",
    "colormap = plt.cm.coolwarm\n",
    "plt.matshow(waffle, cmap=colormap)\n",
    "ax = plt.gca()\n",
    "ax.set_xticks(np.arange(-0.5, (width), 1), minor=True)\n",
    "ax.set_yticks(np.arange(-0.5, (height), 1), minor=True)\n",
    "ax.grid(which='minor', color='w', linestyle='-', linewidth=2)\n",
    "plt.xticks([])\n",
    "plt.yticks([])\n",
    "plt.colorbar()"
   ]
  },
  {
   "cell_type": "code",
   "execution_count": 10,
   "metadata": {},
   "outputs": [
    {
     "data": {
      "text/plain": [
       "<matplotlib.colorbar.Colorbar at 0x7fa56f846250>"
      ]
     },
     "execution_count": 10,
     "metadata": {},
     "output_type": "execute_result"
    },
    {
     "data": {
      "text/plain": [
       "<Figure size 432x288 with 0 Axes>"
      ]
     },
     "metadata": {},
     "output_type": "display_data"
    },
    {
     "data": {
      "image/png": "[encoded data removed]",
      "text/plain": [
       "<Figure size 1152x288 with 2 Axes>"
      ]
     },
     "metadata": {
      "needs_background": "light"
     },
     "output_type": "display_data"
    }
   ],
   "source": [
    "fig = plt.figure()\n",
    "colormap = plt.cm.coolwarm\n",
    "plt.matshow(waffle, cmap=colormap)\n",
    "ax = plt.gca()\n",
    "ax.set_xticks(np.arange(-0.5, (width), 1), minor=True)\n",
    "ax.set_yticks(np.arange(-0.5, (height), 1), minor=True)\n",
    "ax.grid(which='minor', color='w', linestyle='-', linewidth=2)\n",
    "plt.xticks([])\n",
    "plt.yticks([])\n",
    "values = df['number']\n",
    "categories = df['country']\n",
    "value_sign = ''\n",
    "values_cumsum = np.cumsum(values)\n",
    "total_values = values_cumsum[len(values_cumsum) - 1]\n",
    "legend_handles = []\n",
    "for i, category in enumerate(categories):\n",
    "    if value_sign == '%':\n",
    "        label_str = category + ' (' + str(values[i]) + value_sign + ')' \n",
    "    else:\n",
    "        label_str = category + ' (' + value_sign + str(values[i]) + ')'\n",
    "    color_val = colormap(float(values_cumsum[i]) / total_values)\n",
    "    legend_handles.append(mpatches.Patch(color=color_val, label=label_str))\n",
    "    \n",
    "plt.legend(handles=legend_handles, loc = 'lower center', ncol=len(categories),\n",
    "          bbox_to_anchor=(0., 0.2, 0.95, 0.1)) #positioning legends\n",
    "plt.colorbar()"
   ]
  },
  {
   "cell_type": "code",
   "execution_count": 11,
   "metadata": {},
   "outputs": [
    {
     "name": "stdout",
     "output_type": "stream",
     "text": [
      "Collecting pywaffle\n",
      "  Downloading pywaffle-0.6.1-py2.py3-none-any.whl (526 kB)\n",
      "\u001b[K     |████████████████████████████████| 526 kB 3.7 MB/s eta 0:00:01\n",
      "\u001b[?25hRequirement already satisfied: matplotlib in /Users/marigaldina/opt/anaconda3/lib/python3.7/site-packages (from pywaffle) (3.2.1)\n",
      "Requirement already satisfied: cycler>=0.10 in /Users/marigaldina/opt/anaconda3/lib/python3.7/site-packages (from matplotlib->pywaffle) (0.10.0)\n",
      "Requirement already satisfied: python-dateutil>=2.1 in /Users/marigaldina/opt/anaconda3/lib/python3.7/site-packages (from matplotlib->pywaffle) (2.8.0)\n",
      "Requirement already satisfied: pyparsing!=2.0.4,!=2.1.2,!=2.1.6,>=2.0.1 in /Users/marigaldina/opt/anaconda3/lib/python3.7/site-packages (from matplotlib->pywaffle) (2.4.2)\n",
      "Requirement already satisfied: kiwisolver>=1.0.1 in /Users/marigaldina/opt/anaconda3/lib/python3.7/site-packages (from matplotlib->pywaffle) (1.1.0)\n",
      "Requirement already satisfied: numpy>=1.11 in /Users/marigaldina/opt/anaconda3/lib/python3.7/site-packages (from matplotlib->pywaffle) (1.19.2)\n",
      "Requirement already satisfied: six in /Users/marigaldina/opt/anaconda3/lib/python3.7/site-packages (from cycler>=0.10->matplotlib->pywaffle) (1.12.0)\n",
      "Requirement already satisfied: setuptools in /Users/marigaldina/opt/anaconda3/lib/python3.7/site-packages (from kiwisolver>=1.0.1->matplotlib->pywaffle) (46.0.0)\n",
      "Installing collected packages: pywaffle\n",
      "Successfully installed pywaffle-0.6.1\n",
      "\u001b[33mWARNING: You are using pip version 20.2.2; however, version 20.3.3 is available.\n",
      "You should consider upgrading via the '/Users/marigaldina/opt/anaconda3/bin/python -m pip install --upgrade pip' command.\u001b[0m\n"
     ]
    }
   ],
   "source": [
    "!pip install pywaffle"
   ]
  },
  {
   "cell_type": "code",
   "execution_count": 12,
   "metadata": {},
   "outputs": [],
   "source": [
    "from pywaffle import Waffle"
   ]
  },
  {
   "cell_type": "code",
   "execution_count": 13,
   "metadata": {},
   "outputs": [
    {
     "data": {
      "image/png": "[encoded data removed]",
      "text/plain": [
       "<Waffle size 864x576 with 1 Axes>"
      ]
     },
     "metadata": {
      "needs_background": "light"
     },
     "output_type": "display_data"
    }
   ],
   "source": [
    "fig = plt.figure(\n",
    "    FigureClass=Waffle, \n",
    "    rows=10, \n",
    "    values=list(df.number/5),\n",
    "    labels=list(df.country),\n",
    "    figsize=(12, 8),\n",
    "    legend={'bbox_to_anchor': (0.5, 0.5)}    \n",
    ")"
   ]
  },
  {
   "cell_type": "code",
   "execution_count": 14,
   "metadata": {},
   "outputs": [
    {
     "data": {
      "image/png": "[encoded data removed]",
      "text/plain": [
       "<Waffle size 432x288 with 1 Axes>"
      ]
     },
     "metadata": {},
     "output_type": "display_data"
    }
   ],
   "source": [
    "import matplotlib.pyplot as plt\n",
    "from pywaffle import Waffle\n",
    "\n",
    "data = {'Democratic': 48, 'Republican': 46, 'Libertarian': 3}\n",
    "fig = plt.figure(\n",
    "    FigureClass=Waffle, \n",
    "    rows=5, \n",
    "    values=data, \n",
    "    colors=(\"#983D3D\", \"#232066\", \"#DCB732\"),\n",
    "    title={'label': 'Vote Percentage in 2016 US Presidential Election', 'loc': 'left'},\n",
    "    labels=[\"{0} ({1}%)\".format(k, v) for k, v in data.items()],\n",
    "    legend={'loc': 'lower left', 'bbox_to_anchor': (0, -0.4), 'ncol': len(data), 'framealpha': 0}\n",
    ")\n",
    "fig.gca().set_facecolor('#EEEEEE')\n",
    "fig.set_facecolor('#EEEEEE')\n",
    "plt.show()"
   ]
  },
  {
   "cell_type": "code",
   "execution_count": 15,
   "metadata": {},
   "outputs": [
    {
     "data": {
      "image/png": "[encoded data removed]",
      "text/plain": [
       "<Waffle size 432x288 with 1 Axes>"
      ]
     },
     "metadata": {
      "needs_background": "light"
     },
     "output_type": "display_data"
    }
   ],
   "source": [
    "data = {'Democratic': 48, 'Republican': 46, 'Libertarian': 3}\n",
    "fig = plt.figure(\n",
    "    FigureClass=Waffle, \n",
    "    rows=5, \n",
    "    values=data, \n",
    "    colors=(\"#232066\", \"#983D3D\", \"#DCB732\"),\n",
    "    legend={'loc': 'upper left', 'bbox_to_anchor': (1, 1)},\n",
    "    icons='child', icon_size=18, \n",
    "    icon_legend=True\n",
    ")"
   ]
  },
  {
   "cell_type": "code",
   "execution_count": 17,
   "metadata": {},
   "outputs": [
    {
     "data": {
      "image/png": "[encoded data removed]",
      "text/plain": [
       "<Waffle size 432x288 with 1 Axes>"
      ]
     },
     "metadata": {
      "needs_background": "light"
     },
     "output_type": "display_data"
    }
   ],
   "source": [
    "dic = {'Xemay':150,'Xedap':20,'Oto':180,'Maybay':80,'Tauthuy':135,'Xelua':5}\n",
    "\n",
    "nRows=5\n",
    "countsPerBlock=10  # 1 block = 10 counts\n",
    "plt.figure(FigureClass=Waffle,\n",
    "           rows=nRows,\n",
    "           columns=int(np.ceil(sum(dic.values())/nRows/countsPerBlock)),\n",
    "           values=dic,\n",
    "           legend={'loc': 'upper left', 'bbox_to_anchor': (1, 1.1)})\n",
    "plt.show()"
   ]
  },
  {
   "cell_type": "code",
   "execution_count": null,
   "metadata": {},
   "outputs": [],
   "source": []
  }
 ],
 "metadata": {
  "kernelspec": {
   "display_name": "Python 3",
   "language": "python",
   "name": "python3"
  },
  "language_info": {
   "codemirror_mode": {
    "name": "ipython",
    "version": 3
   },
   "file_extension": ".py",
   "mimetype": "text/x-python",
   "name": "python",
   "nbconvert_exporter": "python",
   "pygments_lexer": "ipython3",
   "version": "3.7.4"
  }
 },
 "nbformat": 4,
 "nbformat_minor": 2
}
