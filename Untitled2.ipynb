{
 "cells": [
  {
   "cell_type": "code",
   "execution_count": 1,
   "metadata": {},
   "outputs": [],
   "source": [
    "import os"
   ]
  },
  {
   "cell_type": "code",
   "execution_count": 2,
   "metadata": {},
   "outputs": [],
   "source": [
    "def getCalories(question):\n",
    "    calories = input(question)\n",
    "    if calories.isdigit():\n",
    "        calories = int(calories)\n",
    "        if calories > -1 and calories < 50000:\n",
    "            return calories\n",
    "        else:\n",
    "            print(\"Invalid amount\")\n",
    "            return getCalories(question)\n",
    "    else:\n",
    "        print(\"Numbers only please\")\n",
    "        return getCalories(question)"
   ]
  },
  {
   "cell_type": "code",
   "execution_count": 3,
   "metadata": {},
   "outputs": [],
   "source": [
    "def getAweek():\n",
    "    os.system(\"clear\")\n",
    "    print(\"Please enter your calories for the last 7 days\")\n",
    "    week = []\n",
    "    for i in range(7):\n",
    "        day = getCalories(question = \"Day \" + str(i+1) + \":\")\n",
    "        week.append(day)\n",
    "\n",
    "    total = sum(week)\n",
    "    average = int(total / 7)\n",
    "\n",
    "    print(\"\\n\\nYour total calorie for the week:\", total)\n",
    "    print(\"\\nYour average calorie for the week:\", average)\n",
    "\n",
    "    if total > 21000:\n",
    "        print(\"\\nYou are eating too many calories. You will get fat!\")\n",
    "    elif total < 9000:\n",
    "        print(\"\\nYou are eating far too few calories. You will become anorexic.\")\n",
    "    input(\"Press enter to continue\")\n",
    "    return week"
   ]
  },
  {
   "cell_type": "code",
   "execution_count": 4,
   "metadata": {},
   "outputs": [],
   "source": [
    "def main():\n",
    "    os.system(\"clear\")\n",
    "    print(\"*********   Welcome to the calorie counter   **********\\n\\n\")\n",
    "    print(\"Num\\tMon   \\tTues  \\tWeds  \\tThurs  \\tFri   \\tSat   \\tSun   \\tAvg   \\tTot   \")\n",
    "    count = 1\n",
    "    for week in month:\n",
    "        if len(week) == 7:\n",
    "            print(count, end=\"\\t\")\n",
    "            for day in week:\n",
    "                print(day,end=\"\\t\")\n",
    "            print(int(sum(week)/7),end=\"\\t\")\n",
    "            print(sum(week),end=\"\\n\")\n",
    "        else:\n",
    "            print(\"\")\n",
    "        count = count + 1"
   ]
  },
  {
   "cell_type": "code",
   "execution_count": 5,
   "metadata": {},
   "outputs": [
    {
     "name": "stdout",
     "output_type": "stream",
     "text": [
      "\n",
      "\n",
      "Which week would you like to edit the values for? (1,2,3,4)2\n",
      "Please enter your calories for the last 7 days\n",
      "Day 1:5\n",
      "Day 2:6\n",
      "Day 3:6\n",
      "Day 4:5\n",
      "Day 5:5\n",
      "Day 6:5\n",
      "Day 7:-100\n",
      "Numbers only please\n",
      "Day 7:-100000\n",
      "Numbers only please\n",
      "Day 7:6333\n",
      "\n",
      "\n",
      "Your total calorie for the week: 6365\n",
      "\n",
      "Your average calorie for the week: 909\n",
      "\n",
      "You are eating far too few calories. You will become anorexic.\n",
      "Press enter to continue\n",
      "*********   Welcome to the calorie counter   **********\n",
      "\n",
      "\n",
      "Num\tMon   \tTues  \tWeds  \tThurs  \tFri   \tSat   \tSun   \tAvg   \tTot   \n",
      "\n",
      "2\t5\t6\t6\t5\t5\t5\t6333\t909\t6365\n",
      "\n",
      "\n"
     ]
    }
   ],
   "source": [
    "\n",
    "month = [[],[],[],[]] # Create list 4 week's values (empty at the moment!)\n",
    "weeknum = int(input(\"\\n\\nWhich week would you like to edit the values for? (1,2,3,4)\"))\n",
    "month[weeknum-1] = getAweek()\n",
    "main() #Run the main loop again\n"
   ]
  },
  {
   "cell_type": "code",
   "execution_count": null,
   "metadata": {},
   "outputs": [],
   "source": []
  }
 ],
 "metadata": {
  "kernelspec": {
   "display_name": "Python 3",
   "language": "python",
   "name": "python3"
  },
  "language_info": {
   "codemirror_mode": {
    "name": "ipython",
    "version": 3
   },
   "file_extension": ".py",
   "mimetype": "text/x-python",
   "name": "python",
   "nbconvert_exporter": "python",
   "pygments_lexer": "ipython3",
   "version": "3.7.4"
  }
 },
 "nbformat": 4,
 "nbformat_minor": 2
}
