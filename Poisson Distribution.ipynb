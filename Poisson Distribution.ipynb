{
 "cells": [
  {
   "cell_type": "code",
   "execution_count": 1,
   "metadata": {},
   "outputs": [],
   "source": [
    "import numpy as np\n",
    "from math import factorial"
   ]
  },
  {
   "cell_type": "code",
   "execution_count": 2,
   "metadata": {},
   "outputs": [],
   "source": [
    "def poisson_probability(lambd, x):\n",
    "    return ((lambd)**x * (np.exp(-lambd))) / factorial(x)\n"
   ]
  },
  {
   "cell_type": "markdown",
   "metadata": {},
   "source": [
    "A fireman fights, on average, 4 fires per month. What is the probability that a fireman is called to two different fires this week?"
   ]
  },
  {
   "cell_type": "code",
   "execution_count": 3,
   "metadata": {},
   "outputs": [
    {
     "name": "stdout",
     "output_type": "stream",
     "text": [
      "0.18393972058572117\n"
     ]
    }
   ],
   "source": [
    "lambd_q1 = 4 / 4\n",
    "prob_q1 = poisson_probability(lambd_q1, 2)\n",
    "print(prob_q1)"
   ]
  },
  {
   "cell_type": "markdown",
   "metadata": {},
   "source": [
    "A car salesman sells an average of 4 cars per week. What is the probability they sell a car today?\n",
    "\n"
   ]
  },
  {
   "cell_type": "code",
   "execution_count": 4,
   "metadata": {},
   "outputs": [
    {
     "name": "stdout",
     "output_type": "stream",
     "text": [
      "0.32269606971871956\n"
     ]
    }
   ],
   "source": [
    "lambd_q2 = 4 / 7\n",
    "prob_q2 = poisson_probability(lambd_q2, 1)\n",
    "print(prob_q2)"
   ]
  },
  {
   "cell_type": "markdown",
   "metadata": {},
   "source": [
    "A website makes an average of 50 sales per day. What is the probability that they make 3 sales in an hour?\n",
    "\n"
   ]
  },
  {
   "cell_type": "code",
   "execution_count": 6,
   "metadata": {},
   "outputs": [
    {
     "name": "stdout",
     "output_type": "stream",
     "text": [
      "0.18764840049328912\n"
     ]
    }
   ],
   "source": [
    "lambd_q3 = 50 / 24\n",
    "prob_q3 = poisson_probability(lambd_q3, 3)\n",
    "print(prob_q3)"
   ]
  },
  {
   "cell_type": "markdown",
   "metadata": {},
   "source": [
    "A factory produces 250 cars per week (assume that the factory runs day and night all week with no down time). What is the probability that they produce 3 cars in the next hour?\n",
    "\n"
   ]
  },
  {
   "cell_type": "code",
   "execution_count": 7,
   "metadata": {},
   "outputs": [
    {
     "name": "stdout",
     "output_type": "stream",
     "text": [
      "0.1240136186052091\n"
     ]
    }
   ],
   "source": [
    "lambd_q4 = 250 / (24 * 7 )\n",
    "prob_q4 = poisson_probability(lambd_q4, 3)\n",
    "print(prob_q4) "
   ]
  },
  {
   "cell_type": "markdown",
   "metadata": {},
   "source": [
    "The following table shows the number of houses sold by a realtor each week for the month of May. What is the probability that they sell 3 houses next week?\n",
    "\n"
   ]
  },
  {
   "cell_type": "code",
   "execution_count": null,
   "metadata": {},
   "outputs": [],
   "source": [
    "Week\tHouses Sold\n",
    "1\t6\n",
    "2\t2\n",
    "3\t5\n",
    "4\t4"
   ]
  },
  {
   "cell_type": "code",
   "execution_count": 9,
   "metadata": {},
   "outputs": [
    {
     "name": "stdout",
     "output_type": "stream",
     "text": [
      "4.25\n",
      "0.18250047186175347\n"
     ]
    }
   ],
   "source": [
    "mean_weekly_sales = (6+2+5+4)  / 4 \n",
    "print(mean_weekly_sales)\n",
    "lambd_q5 = mean_weekly_sales # Already in weekly format, no need to reduce further\n",
    "prob_q5 = poisson_probability(lambd_q5, 3)\n",
    "print(prob_q5)"
   ]
  },
  {
   "cell_type": "code",
   "execution_count": null,
   "metadata": {},
   "outputs": [],
   "source": []
  }
 ],
 "metadata": {
  "kernelspec": {
   "display_name": "Python 3",
   "language": "python",
   "name": "python3"
  },
  "language_info": {
   "codemirror_mode": {
    "name": "ipython",
    "version": 3
   },
   "file_extension": ".py",
   "mimetype": "text/x-python",
   "name": "python",
   "nbconvert_exporter": "python",
   "pygments_lexer": "ipython3",
   "version": "3.7.4"
  }
 },
 "nbformat": 4,
 "nbformat_minor": 2
}
