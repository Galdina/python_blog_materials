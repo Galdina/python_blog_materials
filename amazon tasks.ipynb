{
 "cells": [
  {
   "cell_type": "markdown",
   "metadata": {},
   "source": [
    "# Count total set bits in all numbers from 1 to n\n",
    "\n",
    "Given a positive integer n, count the total number of set bits in binary representation of all numbers from 1 to n.\n",
    "\n",
    "Input: n = 3\n",
    "Output:  4\n",
    "\n",
    "Input: n = 6\n",
    "Output: 9\n",
    "\n",
    "Input: n = 7\n",
    "Output: 12\n",
    "\n",
    "Input: n = 8\n",
    "Output: 13\n",
    "\n",
    "### Method 1 (Simple)\n",
    "A simple solution is to run a loop from 1 to n and sum the count of set bits in all numbers from 1 to n."
   ]
  },
  {
   "cell_type": "code",
   "execution_count": 5,
   "metadata": {},
   "outputs": [
    {
     "name": "stdout",
     "output_type": "stream",
     "text": [
      "3\n",
      "Total set bit count is 4\n"
     ]
    }
   ],
   "source": [
    "def countSetBits(n):       \n",
    "    # initialize the result \n",
    "    bitCount = 0 \n",
    "    # count all numbers of bits\n",
    "    for i in range(1, n + 1): \n",
    "        bitCount += countSetBitsUtil(i) \n",
    "  \n",
    "    return bitCount \n",
    "  \n",
    "def countSetBitsUtil(x):   \n",
    "    if (x <= 0): \n",
    "        return 0\n",
    "    return (0 if int(x % 2) == 0 else 1) +  countSetBitsUtil(int(x / 2)) \n",
    "  \n",
    "  \n",
    "#  Run main program\n",
    "if __name__=='__main__':  \n",
    "    n = int(input())\n",
    "    print(\"Total set bit count is\", countSetBits(n))      \n"
   ]
  },
  {
   "cell_type": "markdown",
   "metadata": {},
   "source": [
    "### Method 2 (Simple and efficient than Method 1)\n",
    "If we observe bits from rightmost side at distance i than bits get inverted after 2^i position in vertical sequence.\n",
    "for example n = 5;\n",
    "0 = 0000\n",
    "1 = 0001\n",
    "2 = 0010\n",
    "3 = 0011\n",
    "4 = 0100\n",
    "5 = 0101\n",
    "\n",
    "Observe the right most bit (i = 0) the bits get flipped after (2^0 = 1)\n",
    "Observe the 3rd rightmost bit (i = 2) the bits get flipped after (2^2 = 4)\n",
    "\n",
    "So, We can count bits in vertical fashion such that at i’th right most position bits will be get flipped after 2^i iteration;\n",
    "\n"
   ]
  },
  {
   "cell_type": "code",
   "execution_count": 8,
   "metadata": {},
   "outputs": [
    {
     "name": "stdout",
     "output_type": "stream",
     "text": [
      "3\n",
      "Total set bit count is 4\n"
     ]
    }
   ],
   "source": [
    "def countSetBits(n) : \n",
    "    i = 0  \n",
    "    # ans store sum of set bits from 0 to n   \n",
    "    ans = 0\n",
    "  \n",
    "    # while n greater than equal to 2^i \n",
    "    while ((1 << i) <= n) : \n",
    "  \n",
    "        # This k will get flipped after   \n",
    "        # 2^i iterations  \n",
    "        k = 0\n",
    "  \n",
    "        # change is iterator from 2^i to 1 \n",
    "        change = 1 << i \n",
    "  \n",
    "        # This will loop from 0 to n for  \n",
    "        # every bit position  \n",
    "        for j in range(0, n+1) : \n",
    "            ans += k \n",
    "  \n",
    "            if change == 1 : \n",
    "                  \n",
    "                #  When change = 1 flip the bit  \n",
    "                k = not k \n",
    "  \n",
    "                # again set change to 2^i  \n",
    "                change = 1 << i \n",
    "  \n",
    "            else : \n",
    "                change -= 1\n",
    "  \n",
    "        # increment the position  \n",
    "        i += 1\n",
    "  \n",
    "    return ans \n",
    "  \n",
    "  \n",
    "  \n",
    "# Run code \n",
    "if __name__ == \"__main__\" : \n",
    "  \n",
    "    n = int(input())\n",
    "    print(\"Total set bit count is\", countSetBits(n)) \n",
    "   "
   ]
  },
  {
   "cell_type": "markdown",
   "metadata": {},
   "source": [
    "# Print Left View of a Binary Tree"
   ]
  },
  {
   "cell_type": "code",
   "execution_count": 7,
   "metadata": {},
   "outputs": [
    {
     "name": "stdout",
     "output_type": "stream",
     "text": [
      "1\n",
      "22\n",
      "32\n"
     ]
    }
   ],
   "source": [
    "# A binary tree node \n",
    "\n",
    "class Node:   \n",
    "    # Constructor to create a new node \n",
    "    def __init__(self, data): \n",
    "        self.data = data \n",
    "        self.left = None\n",
    "        self.right = None \n",
    "  \n",
    "# The problem can also be solved using simple recursive traversal\n",
    "def leftViewUtil(root, level, max_level): \n",
    "    # check: empty tree\n",
    "    if root is None: \n",
    "        return\n",
    "    # check: Is it first node of its level \n",
    "    if (max_level[0] < level): \n",
    "        print (root.data), \n",
    "        max_level[0] = level   \n",
    "    # Use recursive function for left and right subtree \n",
    "# go to the left\n",
    "    leftViewUtil(root.left, level + 1, max_level) \n",
    "# go to the right\n",
    "    leftViewUtil(root.right, level + 1, max_level) \n",
    " \n",
    "# A wrapper over leftViewUtil() \n",
    "def leftView(root): \n",
    "    max_level = [0] \n",
    "    leftViewUtil(root, 1, max_level) \n",
    "\n",
    "# test for\n",
    "#     1\n",
    "#    /  \\\n",
    "#   21  22\n",
    "#      /  \\\n",
    "#     31  32\n",
    "\n",
    "\n",
    "root = Node(1) \n",
    "root.left = Node(22) \n",
    "root.right = Node(21) \n",
    "root.right.left = Node(32) \n",
    "root.right.right = Node(31) \n",
    "  \n",
    "leftView(root) \n"
   ]
  },
  {
   "cell_type": "markdown",
   "metadata": {},
   "source": [
    "# Tree Traversals (Inorder, Preorder and Postorder)"
   ]
  },
  {
   "cell_type": "code",
   "execution_count": 3,
   "metadata": {},
   "outputs": [],
   "source": [
    "# test tree\n",
    "#      1\n",
    "#     /  \\\n",
    "#    2   3\n",
    "#  /  |\n",
    "# 4   5\n",
    "\n",
    "#Depth First Traversals:\n",
    "#(a) Inorder (Left, Root, Right) : 4 2 5 1 3\n",
    "#(b) Preorder (Root, Left, Right) : 1 2 4 5 3\n",
    "#(c) Postorder (Left, Right, Root) : 4 5 2 3 1"
   ]
  },
  {
   "cell_type": "code",
   "execution_count": 2,
   "metadata": {},
   "outputs": [
    {
     "name": "stdout",
     "output_type": "stream",
     "text": [
      "Preorder traversal of binary tree is\n",
      "1\n",
      "2\n",
      "4\n",
      "5\n",
      "3\n",
      "\n",
      "Inorder traversal of binary tree is\n",
      "4\n",
      "2\n",
      "5\n",
      "1\n",
      "3\n",
      "\n",
      "Postorder traversal of binary tree is\n",
      "4\n",
      "5\n",
      "2\n",
      "3\n",
      "1\n"
     ]
    }
   ],
   "source": [
    "class Node: \n",
    "    def __init__(self,key): \n",
    "        self.left = None\n",
    "        self.right = None\n",
    "        self.val = key \n",
    "  \n",
    "  \n",
    "# A function to do inorder tree traversal \n",
    "def printInorder(root): \n",
    "  \n",
    "    if root: \n",
    "  \n",
    "        # First recur on left child \n",
    "        printInorder(root.left) \n",
    "  \n",
    "        # then print the data of node \n",
    "        print(root.val), \n",
    "  \n",
    "        # now recur on right child \n",
    "        printInorder(root.right) \n",
    "  \n",
    "  \n",
    "  \n",
    "# A function to do postorder tree traversal \n",
    "def printPostorder(root): \n",
    "  \n",
    "    if root: \n",
    "  \n",
    "        # First recur on left child \n",
    "        printPostorder(root.left) \n",
    "  \n",
    "        # the recur on right child \n",
    "        printPostorder(root.right) \n",
    "  \n",
    "        # now print the data of node \n",
    "        print(root.val), \n",
    "  \n",
    "  \n",
    "# A function to do preorder tree traversal \n",
    "def printPreorder(root): \n",
    "  \n",
    "    if root: \n",
    "  \n",
    "        # First print the data of node \n",
    "        print(root.val), \n",
    "  \n",
    "        # Then recur on left child \n",
    "        printPreorder(root.left) \n",
    "  \n",
    "        # Finally recur on right child \n",
    "        printPreorder(root.right) \n",
    "  \n",
    "  \n",
    "# Driver code \n",
    "root = Node(1) \n",
    "root.left      = Node(2) \n",
    "root.right     = Node(3) \n",
    "root.left.left  = Node(4) \n",
    "root.left.right  = Node(5) \n",
    "print (\"Preorder traversal of binary tree is\")\n",
    "printPreorder(root) \n",
    "  \n",
    "print (\"\\nInorder traversal of binary tree is\")\n",
    "printInorder(root) \n",
    "  \n",
    "print (\"\\nPostorder traversal of binary tree is\")\n",
    "printPostorder(root) "
   ]
  },
  {
   "cell_type": "code",
   "execution_count": null,
   "metadata": {},
   "outputs": [],
   "source": []
  }
 ],
 "metadata": {
  "kernelspec": {
   "display_name": "Python 3",
   "language": "python",
   "name": "python3"
  },
  "language_info": {
   "codemirror_mode": {
    "name": "ipython",
    "version": 3
   },
   "file_extension": ".py",
   "mimetype": "text/x-python",
   "name": "python",
   "nbconvert_exporter": "python",
   "pygments_lexer": "ipython3",
   "version": "3.7.4"
  }
 },
 "nbformat": 4,
 "nbformat_minor": 2
}
