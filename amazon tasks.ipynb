{
 "cells": [
  {
   "cell_type": "markdown",
   "metadata": {},
   "source": [
    "# Count total set bits in all numbers from 1 to n\n",
    "\n",
    "Given a positive integer n, count the total number of set bits in binary representation of all numbers from 1 to n.\n",
    "\n",
    "Input: n = 3\n",
    "Output:  4\n",
    "\n",
    "Input: n = 6\n",
    "Output: 9\n",
    "\n",
    "Input: n = 7\n",
    "Output: 12\n",
    "\n",
    "Input: n = 8\n",
    "Output: 13\n",
    "\n",
    "### Method 1 (Simple)\n",
    "A simple solution is to run a loop from 1 to n and sum the count of set bits in all numbers from 1 to n."
   ]
  },
  {
   "cell_type": "code",
   "execution_count": 5,
   "metadata": {},
   "outputs": [
    {
     "name": "stdout",
     "output_type": "stream",
     "text": [
      "3\n",
      "Total set bit count is 4\n"
     ]
    }
   ],
   "source": [
    "def countSetBits(n):       \n",
    "    # initialize the result \n",
    "    bitCount = 0 \n",
    "    # count all numbers of bits\n",
    "    for i in range(1, n + 1): \n",
    "        bitCount += countSetBitsUtil(i) \n",
    "  \n",
    "    return bitCount \n",
    "  \n",
    "def countSetBitsUtil(x):   \n",
    "    if (x <= 0): \n",
    "        return 0\n",
    "    return (0 if int(x % 2) == 0 else 1) +  countSetBitsUtil(int(x / 2)) \n",
    "  \n",
    "  \n",
    "#  Run main program\n",
    "if __name__=='__main__':  \n",
    "    n = int(input())\n",
    "    print(\"Total set bit count is\", countSetBits(n))      \n"
   ]
  },
  {
   "cell_type": "markdown",
   "metadata": {},
   "source": [
    "### Method 2 (Simple and efficient than Method 1)\n",
    "If we observe bits from rightmost side at distance i than bits get inverted after 2^i position in vertical sequence.\n",
    "for example n = 5;\n",
    "0 = 0000\n",
    "1 = 0001\n",
    "2 = 0010\n",
    "3 = 0011\n",
    "4 = 0100\n",
    "5 = 0101\n",
    "\n",
    "Observe the right most bit (i = 0) the bits get flipped after (2^0 = 1)\n",
    "Observe the 3rd rightmost bit (i = 2) the bits get flipped after (2^2 = 4)\n",
    "\n",
    "So, We can count bits in vertical fashion such that at i’th right most position bits will be get flipped after 2^i iteration;\n",
    "\n"
   ]
  },
  {
   "cell_type": "code",
   "execution_count": 8,
   "metadata": {},
   "outputs": [
    {
     "name": "stdout",
     "output_type": "stream",
     "text": [
      "3\n",
      "Total set bit count is 4\n"
     ]
    }
   ],
   "source": [
    "def countSetBits(n) : \n",
    "    i = 0  \n",
    "    # ans store sum of set bits from 0 to n   \n",
    "    ans = 0\n",
    "  \n",
    "    # while n greater than equal to 2^i \n",
    "    while ((1 << i) <= n) : \n",
    "  \n",
    "        # This k will get flipped after   \n",
    "        # 2^i iterations  \n",
    "        k = 0\n",
    "  \n",
    "        # change is iterator from 2^i to 1 \n",
    "        change = 1 << i \n",
    "  \n",
    "        # This will loop from 0 to n for  \n",
    "        # every bit position  \n",
    "        for j in range(0, n+1) : \n",
    "            ans += k \n",
    "  \n",
    "            if change == 1 : \n",
    "                  \n",
    "                #  When change = 1 flip the bit  \n",
    "                k = not k \n",
    "  \n",
    "                # again set change to 2^i  \n",
    "                change = 1 << i \n",
    "  \n",
    "            else : \n",
    "                change -= 1\n",
    "  \n",
    "        # increment the position  \n",
    "        i += 1\n",
    "  \n",
    "    return ans \n",
    "  \n",
    "  \n",
    "  \n",
    "# Run code \n",
    "if __name__ == \"__main__\" : \n",
    "  \n",
    "    n = int(input())\n",
    "    print(\"Total set bit count is\", countSetBits(n)) \n",
    "   "
   ]
  },
  {
   "cell_type": "code",
   "execution_count": null,
   "metadata": {},
   "outputs": [],
   "source": []
  }
 ],
 "metadata": {
  "kernelspec": {
   "display_name": "Python 3",
   "language": "python",
   "name": "python3"
  },
  "language_info": {
   "codemirror_mode": {
    "name": "ipython",
    "version": 3
   },
   "file_extension": ".py",
   "mimetype": "text/x-python",
   "name": "python",
   "nbconvert_exporter": "python",
   "pygments_lexer": "ipython3",
   "version": "3.7.4"
  }
 },
 "nbformat": 4,
 "nbformat_minor": 2
}
