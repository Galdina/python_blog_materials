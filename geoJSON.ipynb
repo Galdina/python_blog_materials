{
 "cells": [
  {
   "cell_type": "code",
   "execution_count": 4,
   "metadata": {},
   "outputs": [
    {
     "name": "stdout",
     "output_type": "stream",
     "text": [
      "Requirement already satisfied: shapely in /Users/marigaldina/opt/anaconda3/lib/python3.7/site-packages (1.7.1)\n",
      "\u001b[33mWARNING: You are using pip version 20.2.2; however, version 21.0.1 is available.\n",
      "You should consider upgrading via the '/Users/marigaldina/opt/anaconda3/bin/python -m pip install --upgrade pip' command.\u001b[0m\n"
     ]
    }
   ],
   "source": [
    "#!pip install shapely"
   ]
  },
  {
   "cell_type": "code",
   "execution_count": 5,
   "metadata": {},
   "outputs": [],
   "source": [
    "from shapely.geometry import Point, Polygon"
   ]
  },
  {
   "cell_type": "code",
   "execution_count": 7,
   "metadata": {},
   "outputs": [
    {
     "name": "stdout",
     "output_type": "stream",
     "text": [
      "POINT (0 0)\n"
     ]
    }
   ],
   "source": [
    "p1 = Point(0,0)\n",
    "print(p1)"
   ]
  },
  {
   "cell_type": "code",
   "execution_count": 8,
   "metadata": {},
   "outputs": [
    {
     "name": "stdout",
     "output_type": "stream",
     "text": [
      "False\n"
     ]
    }
   ],
   "source": [
    "print(p1 == (0,0))"
   ]
  },
  {
   "cell_type": "code",
   "execution_count": 9,
   "metadata": {},
   "outputs": [
    {
     "name": "stdout",
     "output_type": "stream",
     "text": [
      "<class 'shapely.geometry.point.Point'>\n"
     ]
    }
   ],
   "source": [
    "print(type(p1))"
   ]
  },
  {
   "cell_type": "code",
   "execution_count": 10,
   "metadata": {},
   "outputs": [],
   "source": [
    "polygon = Polygon([(0,0),(1,1),(1,0)])"
   ]
  },
  {
   "cell_type": "markdown",
   "metadata": {},
   "source": [
    "-----\n",
    "\n",
    "GeoJSON is a format for representing geographic objects. It’s different from regular JSON because it supports geometry types, such as: Point, LineString, Polygon, MultiPoint, MultiLineString, MultiPolygon, and GeometryCollection."
   ]
  },
  {
   "cell_type": "code",
   "execution_count": 11,
   "metadata": {},
   "outputs": [],
   "source": [
    "import geopandas as gpd"
   ]
  },
  {
   "cell_type": "code",
   "execution_count": 15,
   "metadata": {},
   "outputs": [
    {
     "name": "stdout",
     "output_type": "stream",
     "text": [
      "    id                  name  \\\n",
      "0  AFG           Afghanistan   \n",
      "1  AGO                Angola   \n",
      "2  ALB               Albania   \n",
      "3  ARE  United Arab Emirates   \n",
      "4  ARG             Argentina   \n",
      "\n",
      "                                            geometry  \n",
      "0  POLYGON ((61.21082 35.65007, 62.23065 35.27066...  \n",
      "1  MULTIPOLYGON (((16.32653 -5.87747, 16.57318 -6...  \n",
      "2  POLYGON ((20.59025 41.85540, 20.46317 41.51509...  \n",
      "3  POLYGON ((51.57952 24.24550, 51.75744 24.29407...  \n",
      "4  MULTIPOLYGON (((-65.50000 -55.20000, -66.45000...  \n"
     ]
    }
   ],
   "source": [
    "countries = gpd.read_file('./data/countries.geojson')\n",
    "print(countries.head())"
   ]
  },
  {
   "cell_type": "code",
   "execution_count": 17,
   "metadata": {},
   "outputs": [
    {
     "name": "stdout",
     "output_type": "stream",
     "text": [
      "Collecting geojsonio\n",
      "  Downloading geojsonio-0.0.3.tar.gz (4.7 kB)\n",
      "Collecting github3.py\n",
      "  Downloading github3.py-2.0.0-py2.py3-none-any.whl (148 kB)\n",
      "\u001b[K     |████████████████████████████████| 148 kB 3.7 MB/s eta 0:00:01\n",
      "\u001b[?25hRequirement already satisfied: six in /Users/marigaldina/opt/anaconda3/lib/python3.7/site-packages (from geojsonio) (1.12.0)\n",
      "Requirement already satisfied: python-dateutil>=2.6.0 in /Users/marigaldina/opt/anaconda3/lib/python3.7/site-packages (from github3.py->geojsonio) (2.8.0)\n",
      "Requirement already satisfied: requests>=2.18 in /Users/marigaldina/opt/anaconda3/lib/python3.7/site-packages (from github3.py->geojsonio) (2.22.0)\n",
      "Collecting uritemplate>=3.0.0\n",
      "  Downloading uritemplate-3.0.1-py2.py3-none-any.whl (15 kB)\n",
      "Collecting jwcrypto>=0.5.0\n",
      "  Downloading jwcrypto-0.8-py2.py3-none-any.whl (79 kB)\n",
      "\u001b[K     |████████████████████████████████| 79 kB 3.7 MB/s  eta 0:00:01\n",
      "\u001b[?25hRequirement already satisfied: urllib3!=1.25.0,!=1.25.1,<1.26,>=1.21.1 in /Users/marigaldina/opt/anaconda3/lib/python3.7/site-packages (from requests>=2.18->github3.py->geojsonio) (1.24.2)\n",
      "Requirement already satisfied: chardet<3.1.0,>=3.0.2 in /Users/marigaldina/opt/anaconda3/lib/python3.7/site-packages (from requests>=2.18->github3.py->geojsonio) (3.0.4)\n",
      "Requirement already satisfied: idna<2.9,>=2.5 in /Users/marigaldina/opt/anaconda3/lib/python3.7/site-packages (from requests>=2.18->github3.py->geojsonio) (2.8)\n",
      "Requirement already satisfied: certifi>=2017.4.17 in /Users/marigaldina/opt/anaconda3/lib/python3.7/site-packages (from requests>=2.18->github3.py->geojsonio) (2019.9.11)\n",
      "Requirement already satisfied: cryptography>=2.3 in /Users/marigaldina/opt/anaconda3/lib/python3.7/site-packages (from jwcrypto>=0.5.0->github3.py->geojsonio) (2.7)\n",
      "Requirement already satisfied: asn1crypto>=0.21.0 in /Users/marigaldina/opt/anaconda3/lib/python3.7/site-packages (from cryptography>=2.3->jwcrypto>=0.5.0->github3.py->geojsonio) (1.0.1)\n",
      "Requirement already satisfied: cffi!=1.11.3,>=1.8 in /Users/marigaldina/opt/anaconda3/lib/python3.7/site-packages (from cryptography>=2.3->jwcrypto>=0.5.0->github3.py->geojsonio) (1.12.3)\n",
      "Requirement already satisfied: pycparser in /Users/marigaldina/opt/anaconda3/lib/python3.7/site-packages (from cffi!=1.11.3,>=1.8->cryptography>=2.3->jwcrypto>=0.5.0->github3.py->geojsonio) (2.19)\n",
      "Building wheels for collected packages: geojsonio\n",
      "  Building wheel for geojsonio (setup.py) ... \u001b[?25ldone\n",
      "\u001b[?25h  Created wheel for geojsonio: filename=geojsonio-0.0.3-py3-none-any.whl size=5037 sha256=599cf4e6427b49a98c0eaa59f675cd105b823677e3d3ee84e920663be9d48120\n",
      "  Stored in directory: /Users/marigaldina/Library/Caches/pip/wheels/21/ef/f0/71474034f127d681a5cde034ccd6ca0a8fdb117ff24623b855\n",
      "Successfully built geojsonio\n",
      "Installing collected packages: uritemplate, jwcrypto, github3.py, geojsonio\n",
      "Successfully installed geojsonio-0.0.3 github3.py-2.0.0 jwcrypto-0.8 uritemplate-3.0.1\n",
      "\u001b[33mWARNING: You are using pip version 20.2.2; however, version 21.0.1 is available.\n",
      "You should consider upgrading via the '/Users/marigaldina/opt/anaconda3/bin/python -m pip install --upgrade pip' command.\u001b[0m\n"
     ]
    }
   ],
   "source": [
    "#!pip install geojsonio"
   ]
  },
  {
   "cell_type": "code",
   "execution_count": 18,
   "metadata": {},
   "outputs": [
    {
     "ename": "AuthenticationFailed",
     "evalue": "401 Requires authentication",
     "output_type": "error",
     "traceback": [
      "\u001b[0;31m---------------------------------------------------------------------------\u001b[0m",
      "\u001b[0;31mAuthenticationFailed\u001b[0m                      Traceback (most recent call last)",
      "\u001b[0;32m<ipython-input-18-ebebd7f8c2e9>\u001b[0m in \u001b[0;36m<module>\u001b[0;34m\u001b[0m\n\u001b[1;32m      1\u001b[0m \u001b[0;32mimport\u001b[0m \u001b[0mgeojsonio\u001b[0m\u001b[0;34m\u001b[0m\u001b[0;34m\u001b[0m\u001b[0m\n\u001b[0;32m----> 2\u001b[0;31m \u001b[0mgeojsonio\u001b[0m\u001b[0;34m.\u001b[0m\u001b[0mdisplay\u001b[0m\u001b[0;34m(\u001b[0m\u001b[0mcountries\u001b[0m\u001b[0;34m)\u001b[0m\u001b[0;34m\u001b[0m\u001b[0;34m\u001b[0m\u001b[0m\n\u001b[0m",
      "\u001b[0;32m~/opt/anaconda3/lib/python3.7/site-packages/geojsonio/geojsonio.py\u001b[0m in \u001b[0;36mdisplay\u001b[0;34m(contents, domain, force_gist)\u001b[0m\n\u001b[1;32m     34\u001b[0m \u001b[0;34m\u001b[0m\u001b[0m\n\u001b[1;32m     35\u001b[0m     \"\"\"\n\u001b[0;32m---> 36\u001b[0;31m     \u001b[0murl\u001b[0m \u001b[0;34m=\u001b[0m \u001b[0mmake_url\u001b[0m\u001b[0;34m(\u001b[0m\u001b[0mcontents\u001b[0m\u001b[0;34m,\u001b[0m \u001b[0mdomain\u001b[0m\u001b[0;34m,\u001b[0m \u001b[0mforce_gist\u001b[0m\u001b[0;34m)\u001b[0m\u001b[0;34m\u001b[0m\u001b[0;34m\u001b[0m\u001b[0m\n\u001b[0m\u001b[1;32m     37\u001b[0m     \u001b[0mwebbrowser\u001b[0m\u001b[0;34m.\u001b[0m\u001b[0mopen\u001b[0m\u001b[0;34m(\u001b[0m\u001b[0murl\u001b[0m\u001b[0;34m)\u001b[0m\u001b[0;34m\u001b[0m\u001b[0;34m\u001b[0m\u001b[0m\n\u001b[1;32m     38\u001b[0m     \u001b[0;32mreturn\u001b[0m \u001b[0murl\u001b[0m\u001b[0;34m\u001b[0m\u001b[0;34m\u001b[0m\u001b[0m\n",
      "\u001b[0;32m~/opt/anaconda3/lib/python3.7/site-packages/geojsonio/geojsonio.py\u001b[0m in \u001b[0;36mmake_url\u001b[0;34m(contents, domain, force_gist, size_for_gist)\u001b[0m\n\u001b[1;32m     91\u001b[0m         \u001b[0murl\u001b[0m \u001b[0;34m=\u001b[0m \u001b[0mdata_url\u001b[0m\u001b[0;34m(\u001b[0m\u001b[0mcontents\u001b[0m\u001b[0;34m,\u001b[0m \u001b[0mdomain\u001b[0m\u001b[0;34m)\u001b[0m\u001b[0;34m\u001b[0m\u001b[0;34m\u001b[0m\u001b[0m\n\u001b[1;32m     92\u001b[0m     \u001b[0;32melse\u001b[0m\u001b[0;34m:\u001b[0m\u001b[0;34m\u001b[0m\u001b[0;34m\u001b[0m\u001b[0m\n\u001b[0;32m---> 93\u001b[0;31m         \u001b[0mgist\u001b[0m \u001b[0;34m=\u001b[0m \u001b[0m_make_gist\u001b[0m\u001b[0;34m(\u001b[0m\u001b[0mcontents\u001b[0m\u001b[0;34m)\u001b[0m\u001b[0;34m\u001b[0m\u001b[0;34m\u001b[0m\u001b[0m\n\u001b[0m\u001b[1;32m     94\u001b[0m         \u001b[0murl\u001b[0m \u001b[0;34m=\u001b[0m \u001b[0mgist_url\u001b[0m\u001b[0;34m(\u001b[0m\u001b[0mgist\u001b[0m\u001b[0;34m.\u001b[0m\u001b[0mid\u001b[0m\u001b[0;34m,\u001b[0m \u001b[0mdomain\u001b[0m\u001b[0;34m)\u001b[0m\u001b[0;34m\u001b[0m\u001b[0;34m\u001b[0m\u001b[0m\n\u001b[1;32m     95\u001b[0m \u001b[0;34m\u001b[0m\u001b[0m\n",
      "\u001b[0;32m~/opt/anaconda3/lib/python3.7/site-packages/geojsonio/geojsonio.py\u001b[0m in \u001b[0;36m_make_gist\u001b[0;34m(contents, description, filename)\u001b[0m\n\u001b[1;32m    170\u001b[0m     \u001b[0mghapi\u001b[0m \u001b[0;34m=\u001b[0m \u001b[0mgithub3\u001b[0m\u001b[0;34m.\u001b[0m\u001b[0mGitHub\u001b[0m\u001b[0;34m(\u001b[0m\u001b[0;34m)\u001b[0m\u001b[0;34m\u001b[0m\u001b[0;34m\u001b[0m\u001b[0m\n\u001b[1;32m    171\u001b[0m     \u001b[0mfiles\u001b[0m \u001b[0;34m=\u001b[0m \u001b[0;34m{\u001b[0m\u001b[0mfilename\u001b[0m\u001b[0;34m:\u001b[0m \u001b[0;34m{\u001b[0m\u001b[0;34m'content'\u001b[0m\u001b[0;34m:\u001b[0m \u001b[0mcontents\u001b[0m\u001b[0;34m}\u001b[0m\u001b[0;34m}\u001b[0m\u001b[0;34m\u001b[0m\u001b[0;34m\u001b[0m\u001b[0m\n\u001b[0;32m--> 172\u001b[0;31m     \u001b[0mgist\u001b[0m \u001b[0;34m=\u001b[0m \u001b[0mghapi\u001b[0m\u001b[0;34m.\u001b[0m\u001b[0mcreate_gist\u001b[0m\u001b[0;34m(\u001b[0m\u001b[0mdescription\u001b[0m\u001b[0;34m,\u001b[0m \u001b[0mfiles\u001b[0m\u001b[0;34m)\u001b[0m\u001b[0;34m\u001b[0m\u001b[0;34m\u001b[0m\u001b[0m\n\u001b[0m\u001b[1;32m    173\u001b[0m \u001b[0;34m\u001b[0m\u001b[0m\n\u001b[1;32m    174\u001b[0m     \u001b[0;32mreturn\u001b[0m \u001b[0mgist\u001b[0m\u001b[0;34m\u001b[0m\u001b[0;34m\u001b[0m\u001b[0m\n",
      "\u001b[0;32m~/opt/anaconda3/lib/python3.7/site-packages/github3/decorators.py\u001b[0m in \u001b[0;36mauth_wrapper\u001b[0;34m(self, *args, **kwargs)\u001b[0m\n\u001b[1;32m     32\u001b[0m                 \u001b[0;34m'{\"message\": \"Requires authentication\"}'\u001b[0m\u001b[0;34m\u001b[0m\u001b[0;34m\u001b[0m\u001b[0m\n\u001b[1;32m     33\u001b[0m             )\n\u001b[0;32m---> 34\u001b[0;31m             \u001b[0;32mraise\u001b[0m \u001b[0merror_for\u001b[0m\u001b[0;34m(\u001b[0m\u001b[0mr\u001b[0m\u001b[0;34m)\u001b[0m\u001b[0;34m\u001b[0m\u001b[0;34m\u001b[0m\u001b[0m\n\u001b[0m\u001b[1;32m     35\u001b[0m \u001b[0;34m\u001b[0m\u001b[0m\n\u001b[1;32m     36\u001b[0m     \u001b[0;32mreturn\u001b[0m \u001b[0mauth_wrapper\u001b[0m\u001b[0;34m\u001b[0m\u001b[0;34m\u001b[0m\u001b[0m\n",
      "\u001b[0;31mAuthenticationFailed\u001b[0m: 401 Requires authentication"
     ]
    }
   ],
   "source": [
    "import geojsonio\n",
    "geojsonio.display(countries)"
   ]
  },
  {
   "cell_type": "code",
   "execution_count": 19,
   "metadata": {},
   "outputs": [
    {
     "ename": "FileNotFoundError",
     "evalue": "[Errno 2] No such file or directory: 'map.geojson'",
     "output_type": "error",
     "traceback": [
      "\u001b[0;31m---------------------------------------------------------------------------\u001b[0m",
      "\u001b[0;31mFileNotFoundError\u001b[0m                         Traceback (most recent call last)",
      "\u001b[0;32m<ipython-input-19-4cb71365ddb2>\u001b[0m in \u001b[0;36m<module>\u001b[0;34m\u001b[0m\n\u001b[0;32m----> 1\u001b[0;31m \u001b[0mcontents\u001b[0m \u001b[0;34m=\u001b[0m \u001b[0mopen\u001b[0m\u001b[0;34m(\u001b[0m\u001b[0;34m'map.geojson'\u001b[0m\u001b[0;34m)\u001b[0m\u001b[0;34m.\u001b[0m\u001b[0mread\u001b[0m\u001b[0;34m(\u001b[0m\u001b[0;34m)\u001b[0m\u001b[0;34m\u001b[0m\u001b[0;34m\u001b[0m\u001b[0m\n\u001b[0m\u001b[1;32m      2\u001b[0m \u001b[0mprint\u001b[0m\u001b[0;34m(\u001b[0m\u001b[0mcontents\u001b[0m\u001b[0;34m)\u001b[0m\u001b[0;34m\u001b[0m\u001b[0;34m\u001b[0m\u001b[0m\n",
      "\u001b[0;31mFileNotFoundError\u001b[0m: [Errno 2] No such file or directory: 'map.geojson'"
     ]
    }
   ],
   "source": [
    "contents = open('map.geojson').read()\n",
    "print(contents)"
   ]
  },
  {
   "cell_type": "code",
   "execution_count": null,
   "metadata": {},
   "outputs": [],
   "source": []
  }
 ],
 "metadata": {
  "kernelspec": {
   "display_name": "Python 3",
   "language": "python",
   "name": "python3"
  },
  "language_info": {
   "codemirror_mode": {
    "name": "ipython",
    "version": 3
   },
   "file_extension": ".py",
   "mimetype": "text/x-python",
   "name": "python",
   "nbconvert_exporter": "python",
   "pygments_lexer": "ipython3",
   "version": "3.7.4"
  }
 },
 "nbformat": 4,
 "nbformat_minor": 2
}
