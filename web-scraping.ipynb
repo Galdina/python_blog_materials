{
 "cells": [
  {
   "cell_type": "code",
   "execution_count": 3,
   "metadata": {},
   "outputs": [
    {
     "data": {
      "text/plain": [
       "<Response [200]>"
      ]
     },
     "execution_count": 3,
     "metadata": {},
     "output_type": "execute_result"
    }
   ],
   "source": [
    "import requests\n",
    "page = requests.get(\"http://dataquestio.github.io/web-scraping-pages/simple.html\")\n",
    "page"
   ]
  },
  {
   "cell_type": "code",
   "execution_count": 2,
   "metadata": {},
   "outputs": [
    {
     "data": {
      "text/plain": [
       "b'<!DOCTYPE html>\\n<html>\\n    <head>\\n        <title>A simple example page</title>\\n    </head>\\n    <body>\\n        <p>Here is some simple content for this page.</p>\\n    </body>\\n</html>'"
      ]
     },
     "execution_count": 2,
     "metadata": {},
     "output_type": "execute_result"
    }
   ],
   "source": [
    "page.content"
   ]
  },
  {
   "cell_type": "code",
   "execution_count": 3,
   "metadata": {},
   "outputs": [],
   "source": [
    "from bs4 import BeautifulSoup\n",
    "soup = BeautifulSoup(page.content, 'html.parser')"
   ]
  },
  {
   "cell_type": "code",
   "execution_count": 4,
   "metadata": {},
   "outputs": [
    {
     "name": "stdout",
     "output_type": "stream",
     "text": [
      "<!DOCTYPE html>\n",
      "<html>\n",
      " <head>\n",
      "  <title>\n",
      "   A simple example page\n",
      "  </title>\n",
      " </head>\n",
      " <body>\n",
      "  <p>\n",
      "   Here is some simple content for this page.\n",
      "  </p>\n",
      " </body>\n",
      "</html>\n"
     ]
    }
   ],
   "source": [
    "print(soup.prettify())"
   ]
  },
  {
   "cell_type": "code",
   "execution_count": 5,
   "metadata": {},
   "outputs": [
    {
     "data": {
      "text/plain": [
       "['html', '\\n', <html>\n",
       " <head>\n",
       " <title>A simple example page</title>\n",
       " </head>\n",
       " <body>\n",
       " <p>Here is some simple content for this page.</p>\n",
       " </body>\n",
       " </html>]"
      ]
     },
     "execution_count": 5,
     "metadata": {},
     "output_type": "execute_result"
    }
   ],
   "source": [
    "list(soup.children)"
   ]
  },
  {
   "cell_type": "code",
   "execution_count": 6,
   "metadata": {},
   "outputs": [
    {
     "data": {
      "text/plain": [
       "[bs4.element.Doctype, bs4.element.NavigableString, bs4.element.Tag]"
      ]
     },
     "execution_count": 6,
     "metadata": {},
     "output_type": "execute_result"
    }
   ],
   "source": [
    "[type(item) for item in list(soup.children)]"
   ]
  },
  {
   "cell_type": "code",
   "execution_count": 7,
   "metadata": {},
   "outputs": [],
   "source": [
    "html = list(soup.children)[2]"
   ]
  },
  {
   "cell_type": "code",
   "execution_count": 8,
   "metadata": {},
   "outputs": [
    {
     "data": {
      "text/plain": [
       "['\\n', <head>\n",
       " <title>A simple example page</title>\n",
       " </head>, '\\n', <body>\n",
       " <p>Here is some simple content for this page.</p>\n",
       " </body>, '\\n']"
      ]
     },
     "execution_count": 8,
     "metadata": {},
     "output_type": "execute_result"
    }
   ],
   "source": [
    "\n",
    "list(html.children)"
   ]
  },
  {
   "cell_type": "code",
   "execution_count": 10,
   "metadata": {},
   "outputs": [
    {
     "data": {
      "text/plain": [
       "'Here is some simple content for this page.'"
      ]
     },
     "execution_count": 10,
     "metadata": {},
     "output_type": "execute_result"
    }
   ],
   "source": [
    "body = list(html.children)[3]\n",
    "p = list(body.children)[1]\n",
    "p.get_text()"
   ]
  },
  {
   "cell_type": "code",
   "execution_count": 11,
   "metadata": {},
   "outputs": [
    {
     "data": {
      "text/plain": [
       "[<p>Here is some simple content for this page.</p>]"
      ]
     },
     "execution_count": 11,
     "metadata": {},
     "output_type": "execute_result"
    }
   ],
   "source": [
    "soup = BeautifulSoup(page.content, 'html.parser')\n",
    "soup.find_all('p')"
   ]
  },
  {
   "cell_type": "code",
   "execution_count": 12,
   "metadata": {},
   "outputs": [
    {
     "data": {
      "text/plain": [
       "'Here is some simple content for this page.'"
      ]
     },
     "execution_count": 12,
     "metadata": {},
     "output_type": "execute_result"
    }
   ],
   "source": [
    "soup.find_all('p')[0].get_text()"
   ]
  },
  {
   "cell_type": "code",
   "execution_count": 13,
   "metadata": {},
   "outputs": [
    {
     "data": {
      "text/plain": [
       "<p>Here is some simple content for this page.</p>"
      ]
     },
     "execution_count": 13,
     "metadata": {},
     "output_type": "execute_result"
    }
   ],
   "source": [
    "soup.find('p')"
   ]
  },
  {
   "cell_type": "code",
   "execution_count": 14,
   "metadata": {},
   "outputs": [
    {
     "data": {
      "text/plain": [
       "<html>\n",
       "<head>\n",
       "<title>A simple example page</title>\n",
       "</head>\n",
       "<body>\n",
       "<div>\n",
       "<p class=\"inner-text first-item\" id=\"first\">\n",
       "                First paragraph.\n",
       "            </p>\n",
       "<p class=\"inner-text\">\n",
       "                Second paragraph.\n",
       "            </p>\n",
       "</div>\n",
       "<p class=\"outer-text first-item\" id=\"second\">\n",
       "<b>\n",
       "                First outer paragraph.\n",
       "            </b>\n",
       "</p>\n",
       "<p class=\"outer-text\">\n",
       "<b>\n",
       "                Second outer paragraph.\n",
       "            </b>\n",
       "</p>\n",
       "</body>\n",
       "</html>"
      ]
     },
     "execution_count": 14,
     "metadata": {},
     "output_type": "execute_result"
    }
   ],
   "source": [
    "page = requests.get(\"http://dataquestio.github.io/web-scraping-pages/ids_and_classes.html\")\n",
    "soup = BeautifulSoup(page.content, 'html.parser')\n",
    "soup"
   ]
  },
  {
   "cell_type": "code",
   "execution_count": 15,
   "metadata": {},
   "outputs": [
    {
     "data": {
      "text/plain": [
       "[<p class=\"outer-text first-item\" id=\"second\">\n",
       " <b>\n",
       "                 First outer paragraph.\n",
       "             </b>\n",
       " </p>, <p class=\"outer-text\">\n",
       " <b>\n",
       "                 Second outer paragraph.\n",
       "             </b>\n",
       " </p>]"
      ]
     },
     "execution_count": 15,
     "metadata": {},
     "output_type": "execute_result"
    }
   ],
   "source": [
    "soup.find_all('p', class_='outer-text')"
   ]
  },
  {
   "cell_type": "code",
   "execution_count": 16,
   "metadata": {},
   "outputs": [
    {
     "data": {
      "text/plain": [
       "[<p class=\"outer-text first-item\" id=\"second\">\n",
       " <b>\n",
       "                 First outer paragraph.\n",
       "             </b>\n",
       " </p>, <p class=\"outer-text\">\n",
       " <b>\n",
       "                 Second outer paragraph.\n",
       "             </b>\n",
       " </p>]"
      ]
     },
     "execution_count": 16,
     "metadata": {},
     "output_type": "execute_result"
    }
   ],
   "source": [
    "soup.find_all(class_=\"outer-text\")"
   ]
  },
  {
   "cell_type": "code",
   "execution_count": 17,
   "metadata": {},
   "outputs": [
    {
     "data": {
      "text/plain": [
       "[<p class=\"inner-text first-item\" id=\"first\">\n",
       "                 First paragraph.\n",
       "             </p>]"
      ]
     },
     "execution_count": 17,
     "metadata": {},
     "output_type": "execute_result"
    }
   ],
   "source": [
    "soup.find_all(id=\"first\")"
   ]
  },
  {
   "cell_type": "code",
   "execution_count": 18,
   "metadata": {},
   "outputs": [
    {
     "data": {
      "text/plain": [
       "[<p class=\"inner-text first-item\" id=\"first\">\n",
       "                 First paragraph.\n",
       "             </p>, <p class=\"inner-text\">\n",
       "                 Second paragraph.\n",
       "             </p>]"
      ]
     },
     "execution_count": 18,
     "metadata": {},
     "output_type": "execute_result"
    }
   ],
   "source": [
    "soup.select(\"div p\")"
   ]
  },
  {
   "cell_type": "code",
   "execution_count": 19,
   "metadata": {},
   "outputs": [
    {
     "name": "stdout",
     "output_type": "stream",
     "text": [
      "<div class=\"tombstone-container\">\n",
      " <p class=\"period-name\">\n",
      "  Tonight\n",
      "  <br/>\n",
      "  <br/>\n",
      " </p>\n",
      " <p>\n",
      "  <img alt=\"Tonight: Clear, with a low around 44. Northwest wind 5 to 9 mph, with gusts as high as 20 mph. \" class=\"forecast-icon\" src=\"newimages/medium/nskc.png\" title=\"Tonight: Clear, with a low around 44. Northwest wind 5 to 9 mph, with gusts as high as 20 mph. \"/>\n",
      " </p>\n",
      " <p class=\"short-desc\">\n",
      "  Clear\n",
      " </p>\n",
      " <p class=\"temp temp-low\">\n",
      "  Low: 44 °F\n",
      " </p>\n",
      "</div>\n"
     ]
    }
   ],
   "source": [
    "page = requests.get(\"http://forecast.weather.gov/MapClick.php?lat=37.7772&lon=-122.4168\")\n",
    "soup = BeautifulSoup(page.content, 'html.parser')\n",
    "seven_day = soup.find(id=\"seven-day-forecast\")\n",
    "forecast_items = seven_day.find_all(class_=\"tombstone-container\")\n",
    "tonight = forecast_items[0]\n",
    "print(tonight.prettify())"
   ]
  },
  {
   "cell_type": "code",
   "execution_count": 20,
   "metadata": {},
   "outputs": [
    {
     "name": "stdout",
     "output_type": "stream",
     "text": [
      "Tonight\n",
      "Clear\n",
      "Low: 44 °F\n"
     ]
    }
   ],
   "source": [
    "period = tonight.find(class_=\"period-name\").get_text()\n",
    "short_desc = tonight.find(class_=\"short-desc\").get_text()\n",
    "temp = tonight.find(class_=\"temp\").get_text()\n",
    "print(period)\n",
    "print(short_desc)\n",
    "print(temp)"
   ]
  },
  {
   "cell_type": "code",
   "execution_count": 21,
   "metadata": {},
   "outputs": [
    {
     "name": "stdout",
     "output_type": "stream",
     "text": [
      "Tonight: Clear, with a low around 44. Northwest wind 5 to 9 mph, with gusts as high as 20 mph. \n"
     ]
    }
   ],
   "source": [
    "\n",
    "img = tonight.find(\"img\")\n",
    "desc = img['title']\n",
    "print(desc)"
   ]
  },
  {
   "cell_type": "code",
   "execution_count": 22,
   "metadata": {},
   "outputs": [
    {
     "data": {
      "text/plain": [
       "['Tonight',\n",
       " 'Saturday',\n",
       " 'SaturdayNight',\n",
       " 'Sunday',\n",
       " 'SundayNight',\n",
       " 'Monday',\n",
       " 'MondayNight',\n",
       " 'Tuesday',\n",
       " 'TuesdayNight']"
      ]
     },
     "execution_count": 22,
     "metadata": {},
     "output_type": "execute_result"
    }
   ],
   "source": [
    "period_tags = seven_day.select(\".tombstone-container .period-name\")\n",
    "periods = [pt.get_text() for pt in period_tags]\n",
    "periods"
   ]
  },
  {
   "cell_type": "code",
   "execution_count": 23,
   "metadata": {},
   "outputs": [
    {
     "ename": "SyntaxError",
     "evalue": "invalid syntax (<ipython-input-23-a6ade7bae453>, line 3)",
     "output_type": "error",
     "traceback": [
      "\u001b[0;36m  File \u001b[0;32m\"<ipython-input-23-a6ade7bae453>\"\u001b[0;36m, line \u001b[0;32m3\u001b[0m\n\u001b[0;31m    descs = [d[\"title\"] for d in seven_day.select(\".tombstone-container img\")]print(short_descs)print(temps)print(descs)\u001b[0m\n\u001b[0m                                                                                  ^\u001b[0m\n\u001b[0;31mSyntaxError\u001b[0m\u001b[0;31m:\u001b[0m invalid syntax\n"
     ]
    }
   ],
   "source": [
    "short_descs = [sd.get_text() for sd in seven_day.select(\".tombstone-container .short-desc\")]\n",
    "temps = [t.get_text() for t in seven_day.select(\".tombstone-container .temp\")]\n",
    "descs = [d[\"title\"] for d in seven_day.select(\".tombstone-container img\")]print(short_descs)print(temps)print(descs)"
   ]
  },
  {
   "cell_type": "code",
   "execution_count": 4,
   "metadata": {},
   "outputs": [],
   "source": [
    "page_exp = requests.get(\"https://requests.readthedocs.io/en/master/index.html\")"
   ]
  },
  {
   "cell_type": "code",
   "execution_count": 6,
   "metadata": {},
   "outputs": [
    {
     "data": {
      "text/plain": [
       "b'\\n<!DOCTYPE html PUBLIC \"-//W3C//DTD XHTML 1.0 Transitional//EN\"\\n  \"http://www.w3.org/TR/xhtml1/DTD/xhtml1-transitional.dtd\">\\n\\n<html xmlns=\"http://www.w3.org/1999/xhtml\" lang=\"en\">\\n  <head>\\n    <meta http-equiv=\"X-UA-Compatible\" content=\"IE=Edge\" />\\n    <meta http-equiv=\"Content-Type\" content=\"text/html; charset=utf-8\" />\\n    <title>Requests: HTTP for Humans\\xe2\\x84\\xa2 &#8212; Requests 2.25.1 documentation</title>\\n    <link rel=\"stylesheet\" href=\"_static/alabaster.css\" type=\"text/css\" />\\n    <link rel=\"stylesheet\" href=\"_static/pygments.css\" type=\"text/css\" />\\n    <link rel=\"stylesheet\" type=\"text/css\" href=\"https://assets.readthedocs.org/static/css/badge_only.css\" />\\n    <script type=\"text/javascript\" id=\"documentation_options\" data-url_root=\"#\" src=\"_static/documentation_options.js\"></script>\\n    <script type=\"text/javascript\" src=\"_static/jquery.js\"></script>\\n    <script type=\"text/javascript\" src=\"_static/underscore.js\"></script>\\n    <script type=\"text/javascript\" src=\"_static/doctools.js\"></script>\\n    <script type=\"text/javascript\" src=\"_static/language_data.js\"></script>\\n    <script async=\"async\" type=\"text/javascript\" src=\"https://assets.readthedocs.org/static/javascript/readthedocs-doc-embed.js\"></script>\\n    <link rel=\"canonical\" href=\"https://requests.readthedocs.io/en/master/index.html\" />\\n    <link rel=\"index\" title=\"Index\" href=\"genindex/\" />\\n    <link rel=\"search\" title=\"Search\" href=\"search/\" />\\n    <link rel=\"next\" title=\"Installation of Requests\" href=\"user/install/\" />\\n   \\n  <link rel=\"stylesheet\" href=\"_static/custom.css\" type=\"text/css\" />\\n  \\n  \\n  <meta name=\"viewport\" content=\"width=device-width, initial-scale=0.9, maximum-scale=0.9\" />\\n\\n  \\n<!-- RTD Extra Head -->\\n\\n<link rel=\"stylesheet\" href=\"https://assets.readthedocs.org/static/css/readthedocs-doc-embed.css\" type=\"text/css\" />\\n\\n<script type=\"application/json\" id=\"READTHEDOCS_DATA\">{\"ad_free\": true, \"api_host\": \"https://readthedocs.org\", \"build_date\": \"2021-02-24T17:20:17Z\", \"builder\": \"sphinx\", \"canonical_url\": null, \"commit\": \"913880c4\", \"docroot\": \"/docs/\", \"features\": {\"docsearch_disabled\": false}, \"global_analytics_code\": \"UA-17997319-1\", \"language\": \"en\", \"page\": \"index\", \"programming_language\": \"py\", \"project\": \"requests\", \"proxied_api_host\": \"/_\", \"source_suffix\": \".rst\", \"subprojects\": {\"requests-docs-cn\": \"https://requests.readthedocs.io/zh_CN/latest/\", \"requests-docs-de\": \"https://requests.readthedocs.io/de/latest/\", \"requests-docs-es\": \"https://requests.readthedocs.io/es/latest/\", \"requests-docs-it\": \"https://requests.readthedocs.io/projects/it/it/latest/\", \"requests-docs-pl\": \"https://requests.readthedocs.io/pl/latest/\", \"requests-docs-pt\": \"https://requests.readthedocs.io/pt_BR/latest/\", \"requests-html\": \"https://requests.readthedocs.io/projects/requests-html/en/latest/\", \"requests3\": \"https://requests.readthedocs.io/projects/3/\"}, \"theme\": \"alabaster\", \"user_analytics_code\": \"\", \"version\": \"master\"}</script>\\n\\n<!--\\nUsing this variable directly instead of using `JSON.parse` is deprecated.\\nThe READTHEDOCS_DATA global variable will be removed in the future.\\n-->\\n<script type=\"text/javascript\">\\nREADTHEDOCS_DATA = JSON.parse(document.getElementById(\\'READTHEDOCS_DATA\\').innerHTML);\\n</script>\\n\\n<script type=\"text/javascript\" src=\"https://assets.readthedocs.org/static/javascript/readthedocs-analytics.js\" async=\"async\"></script>\\n\\n<!-- end RTD <extrahead> -->\\n</head><body>\\n  \\n\\n    <div class=\"document\">\\n      <div class=\"documentwrapper\">\\n        <div class=\"bodywrapper\">\\n          \\n\\n          <div class=\"body\" role=\"main\">\\n            \\n  <div class=\"section\" id=\"requests-http-for-humans\">\\n<h1>Requests: HTTP for Humans\\xe2\\x84\\xa2<a class=\"headerlink\" href=\"#requests-http-for-humans\" title=\"Permalink to this headline\">\\xc2\\xb6</a></h1>\\n<p>Release v2.25.1. (<a class=\"reference internal\" href=\"user/install/#install\"><span class=\"std std-ref\">Installation</span></a>)</p>\\n<a class=\"reference external image-reference\" href=\"https://pepy.tech/project/requests\"><img alt=\"https://pepy.tech/badge/requests\" src=\"https://pepy.tech/badge/requests\" /></a>\\n<a class=\"reference external image-reference\" href=\"https://pypi.org/project/requests/\"><img alt=\"https://img.shields.io/pypi/l/requests.svg\" src=\"https://img.shields.io/pypi/l/requests.svg\" /></a>\\n<a class=\"reference external image-reference\" href=\"https://pypi.org/project/requests/\"><img alt=\"https://img.shields.io/pypi/wheel/requests.svg\" src=\"https://img.shields.io/pypi/wheel/requests.svg\" /></a>\\n<a class=\"reference external image-reference\" href=\"https://pypi.org/project/requests/\"><img alt=\"https://img.shields.io/pypi/pyversions/requests.svg\" src=\"https://img.shields.io/pypi/pyversions/requests.svg\" /></a>\\n<p><strong>Requests</strong> is an elegant and simple HTTP library for Python, built for human beings.</p>\\n<hr class=\"docutils\" />\\n<p><strong>Behold, the power of Requests</strong>:</p>\\n<div class=\"highlight-default notranslate\"><div class=\"highlight\"><pre><span></span><span class=\"gp\">&gt;&gt;&gt; </span><span class=\"n\">r</span> <span class=\"o\">=</span> <span class=\"n\">requests</span><span class=\"o\">.</span><span class=\"n\">get</span><span class=\"p\">(</span><span class=\"s1\">&#39;https://api.github.com/user&#39;</span><span class=\"p\">,</span> <span class=\"n\">auth</span><span class=\"o\">=</span><span class=\"p\">(</span><span class=\"s1\">&#39;user&#39;</span><span class=\"p\">,</span> <span class=\"s1\">&#39;pass&#39;</span><span class=\"p\">))</span>\\n<span class=\"gp\">&gt;&gt;&gt; </span><span class=\"n\">r</span><span class=\"o\">.</span><span class=\"n\">status_code</span>\\n<span class=\"go\">200</span>\\n<span class=\"gp\">&gt;&gt;&gt; </span><span class=\"n\">r</span><span class=\"o\">.</span><span class=\"n\">headers</span><span class=\"p\">[</span><span class=\"s1\">&#39;content-type&#39;</span><span class=\"p\">]</span>\\n<span class=\"go\">&#39;application/json; charset=utf8&#39;</span>\\n<span class=\"gp\">&gt;&gt;&gt; </span><span class=\"n\">r</span><span class=\"o\">.</span><span class=\"n\">encoding</span>\\n<span class=\"go\">&#39;utf-8&#39;</span>\\n<span class=\"gp\">&gt;&gt;&gt; </span><span class=\"n\">r</span><span class=\"o\">.</span><span class=\"n\">text</span>\\n<span class=\"go\">&#39;{&quot;type&quot;:&quot;User&quot;...&#39;</span>\\n<span class=\"gp\">&gt;&gt;&gt; </span><span class=\"n\">r</span><span class=\"o\">.</span><span class=\"n\">json</span><span class=\"p\">()</span>\\n<span class=\"go\">{&#39;private_gists&#39;: 419, &#39;total_private_repos&#39;: 77, ...}</span>\\n</pre></div>\\n</div>\\n<p>See <a class=\"reference external\" href=\"https://gist.github.com/973705\">similar code, sans Requests</a>.</p>\\n<p><strong>Requests</strong> allows you to send HTTP/1.1 requests extremely easily.\\nThere\\xe2\\x80\\x99s no need to manually add query strings to your\\nURLs, or to form-encode your POST data. Keep-alive and HTTP connection pooling\\nare 100% automatic, thanks to <a class=\"reference external\" href=\"https://github.com/urllib3/urllib3\">urllib3</a>.</p>\\n<div class=\"section\" id=\"beloved-features\">\\n<h2>Beloved Features<a class=\"headerlink\" href=\"#beloved-features\" title=\"Permalink to this headline\">\\xc2\\xb6</a></h2>\\n<p>Requests is ready for today\\xe2\\x80\\x99s web.</p>\\n<ul class=\"simple\">\\n<li>Keep-Alive &amp; Connection Pooling</li>\\n<li>International Domains and URLs</li>\\n<li>Sessions with Cookie Persistence</li>\\n<li>Browser-style SSL Verification</li>\\n<li>Automatic Content Decoding</li>\\n<li>Basic/Digest Authentication</li>\\n<li>Elegant Key/Value Cookies</li>\\n<li>Automatic Decompression</li>\\n<li>Unicode Response Bodies</li>\\n<li>HTTP(S) Proxy Support</li>\\n<li>Multipart File Uploads</li>\\n<li>Streaming Downloads</li>\\n<li>Connection Timeouts</li>\\n<li>Chunked Requests</li>\\n<li><code class=\"docutils literal notranslate\"><span class=\"pre\">.netrc</span></code> Support</li>\\n</ul>\\n<p>Requests officially supports Python 2.7 &amp; 3.5+, and runs great on PyPy.</p>\\n</div>\\n<div class=\"section\" id=\"the-user-guide\">\\n<h2>The User Guide<a class=\"headerlink\" href=\"#the-user-guide\" title=\"Permalink to this headline\">\\xc2\\xb6</a></h2>\\n<p>This part of the documentation, which is mostly prose, begins with some\\nbackground information about Requests, then focuses on step-by-step\\ninstructions for getting the most out of Requests.</p>\\n<div class=\"toctree-wrapper compound\">\\n<ul>\\n<li class=\"toctree-l1\"><a class=\"reference internal\" href=\"user/install/\">Installation of Requests</a><ul>\\n<li class=\"toctree-l2\"><a class=\"reference internal\" href=\"user/install/#python-m-pip-install-requests\">$ python -m pip install requests</a></li>\\n<li class=\"toctree-l2\"><a class=\"reference internal\" href=\"user/install/#get-the-source-code\">Get the Source Code</a></li>\\n</ul>\\n</li>\\n<li class=\"toctree-l1\"><a class=\"reference internal\" href=\"user/quickstart/\">Quickstart</a><ul>\\n<li class=\"toctree-l2\"><a class=\"reference internal\" href=\"user/quickstart/#make-a-request\">Make a Request</a></li>\\n<li class=\"toctree-l2\"><a class=\"reference internal\" href=\"user/quickstart/#passing-parameters-in-urls\">Passing Parameters In URLs</a></li>\\n<li class=\"toctree-l2\"><a class=\"reference internal\" href=\"user/quickstart/#response-content\">Response Content</a></li>\\n<li class=\"toctree-l2\"><a class=\"reference internal\" href=\"user/quickstart/#binary-response-content\">Binary Response Content</a></li>\\n<li class=\"toctree-l2\"><a class=\"reference internal\" href=\"user/quickstart/#json-response-content\">JSON Response Content</a></li>\\n<li class=\"toctree-l2\"><a class=\"reference internal\" href=\"user/quickstart/#raw-response-content\">Raw Response Content</a></li>\\n<li class=\"toctree-l2\"><a class=\"reference internal\" href=\"user/quickstart/#custom-headers\">Custom Headers</a></li>\\n<li class=\"toctree-l2\"><a class=\"reference internal\" href=\"user/quickstart/#more-complicated-post-requests\">More complicated POST requests</a></li>\\n<li class=\"toctree-l2\"><a class=\"reference internal\" href=\"user/quickstart/#post-a-multipart-encoded-file\">POST a Multipart-Encoded File</a></li>\\n<li class=\"toctree-l2\"><a class=\"reference internal\" href=\"user/quickstart/#response-status-codes\">Response Status Codes</a></li>\\n<li class=\"toctree-l2\"><a class=\"reference internal\" href=\"user/quickstart/#response-headers\">Response Headers</a></li>\\n<li class=\"toctree-l2\"><a class=\"reference internal\" href=\"user/quickstart/#cookies\">Cookies</a></li>\\n<li class=\"toctree-l2\"><a class=\"reference internal\" href=\"user/quickstart/#redirection-and-history\">Redirection and History</a></li>\\n<li class=\"toctree-l2\"><a class=\"reference internal\" href=\"user/quickstart/#timeouts\">Timeouts</a></li>\\n<li class=\"toctree-l2\"><a class=\"reference internal\" href=\"user/quickstart/#errors-and-exceptions\">Errors and Exceptions</a></li>\\n</ul>\\n</li>\\n<li class=\"toctree-l1\"><a class=\"reference internal\" href=\"user/advanced/\">Advanced Usage</a><ul>\\n<li class=\"toctree-l2\"><a class=\"reference internal\" href=\"user/advanced/#session-objects\">Session Objects</a></li>\\n<li class=\"toctree-l2\"><a class=\"reference internal\" href=\"user/advanced/#request-and-response-objects\">Request and Response Objects</a></li>\\n<li class=\"toctree-l2\"><a class=\"reference internal\" href=\"user/advanced/#prepared-requests\">Prepared Requests</a></li>\\n<li class=\"toctree-l2\"><a class=\"reference internal\" href=\"user/advanced/#ssl-cert-verification\">SSL Cert Verification</a></li>\\n<li class=\"toctree-l2\"><a class=\"reference internal\" href=\"user/advanced/#client-side-certificates\">Client Side Certificates</a></li>\\n<li class=\"toctree-l2\"><a class=\"reference internal\" href=\"user/advanced/#ca-certificates\">CA Certificates</a></li>\\n<li class=\"toctree-l2\"><a class=\"reference internal\" href=\"user/advanced/#body-content-workflow\">Body Content Workflow</a></li>\\n<li class=\"toctree-l2\"><a class=\"reference internal\" href=\"user/advanced/#keep-alive\">Keep-Alive</a></li>\\n<li class=\"toctree-l2\"><a class=\"reference internal\" href=\"user/advanced/#streaming-uploads\">Streaming Uploads</a></li>\\n<li class=\"toctree-l2\"><a class=\"reference internal\" href=\"user/advanced/#chunk-encoded-requests\">Chunk-Encoded Requests</a></li>\\n<li class=\"toctree-l2\"><a class=\"reference internal\" href=\"user/advanced/#post-multiple-multipart-encoded-files\">POST Multiple Multipart-Encoded Files</a></li>\\n<li class=\"toctree-l2\"><a class=\"reference internal\" href=\"user/advanced/#event-hooks\">Event Hooks</a></li>\\n<li class=\"toctree-l2\"><a class=\"reference internal\" href=\"user/advanced/#custom-authentication\">Custom Authentication</a></li>\\n<li class=\"toctree-l2\"><a class=\"reference internal\" href=\"user/advanced/#streaming-requests\">Streaming Requests</a></li>\\n<li class=\"toctree-l2\"><a class=\"reference internal\" href=\"user/advanced/#proxies\">Proxies</a></li>\\n<li class=\"toctree-l2\"><a class=\"reference internal\" href=\"user/advanced/#compliance\">Compliance</a></li>\\n<li class=\"toctree-l2\"><a class=\"reference internal\" href=\"user/advanced/#http-verbs\">HTTP Verbs</a></li>\\n<li class=\"toctree-l2\"><a class=\"reference internal\" href=\"user/advanced/#custom-verbs\">Custom Verbs</a></li>\\n<li class=\"toctree-l2\"><a class=\"reference internal\" href=\"user/advanced/#link-headers\">Link Headers</a></li>\\n<li class=\"toctree-l2\"><a class=\"reference internal\" href=\"user/advanced/#transport-adapters\">Transport Adapters</a></li>\\n<li class=\"toctree-l2\"><a class=\"reference internal\" href=\"user/advanced/#blocking-or-non-blocking\">Blocking Or Non-Blocking?</a></li>\\n<li class=\"toctree-l2\"><a class=\"reference internal\" href=\"user/advanced/#header-ordering\">Header Ordering</a></li>\\n<li class=\"toctree-l2\"><a class=\"reference internal\" href=\"user/advanced/#timeouts\">Timeouts</a></li>\\n</ul>\\n</li>\\n<li class=\"toctree-l1\"><a class=\"reference internal\" href=\"user/authentication/\">Authentication</a><ul>\\n<li class=\"toctree-l2\"><a class=\"reference internal\" href=\"user/authentication/#basic-authentication\">Basic Authentication</a></li>\\n<li class=\"toctree-l2\"><a class=\"reference internal\" href=\"user/authentication/#digest-authentication\">Digest Authentication</a></li>\\n<li class=\"toctree-l2\"><a class=\"reference internal\" href=\"user/authentication/#oauth-1-authentication\">OAuth 1 Authentication</a></li>\\n<li class=\"toctree-l2\"><a class=\"reference internal\" href=\"user/authentication/#oauth-2-and-openid-connect-authentication\">OAuth 2 and OpenID Connect Authentication</a></li>\\n<li class=\"toctree-l2\"><a class=\"reference internal\" href=\"user/authentication/#other-authentication\">Other Authentication</a></li>\\n<li class=\"toctree-l2\"><a class=\"reference internal\" href=\"user/authentication/#new-forms-of-authentication\">New Forms of Authentication</a></li>\\n</ul>\\n</li>\\n</ul>\\n</div>\\n</div>\\n<div class=\"section\" id=\"the-community-guide\">\\n<h2>The Community Guide<a class=\"headerlink\" href=\"#the-community-guide\" title=\"Permalink to this headline\">\\xc2\\xb6</a></h2>\\n<p>This part of the documentation, which is mostly prose, details the\\nRequests ecosystem and community.</p>\\n<div class=\"toctree-wrapper compound\">\\n<ul>\\n<li class=\"toctree-l1\"><a class=\"reference internal\" href=\"community/recommended/\">Recommended Packages and Extensions</a><ul>\\n<li class=\"toctree-l2\"><a class=\"reference internal\" href=\"community/recommended/#certifi-ca-bundle\">Certifi CA Bundle</a></li>\\n<li class=\"toctree-l2\"><a class=\"reference internal\" href=\"community/recommended/#cachecontrol\">CacheControl</a></li>\\n<li class=\"toctree-l2\"><a class=\"reference internal\" href=\"community/recommended/#requests-toolbelt\">Requests-Toolbelt</a></li>\\n<li class=\"toctree-l2\"><a class=\"reference internal\" href=\"community/recommended/#requests-threads\">Requests-Threads</a></li>\\n<li class=\"toctree-l2\"><a class=\"reference internal\" href=\"community/recommended/#requests-oauthlib\">Requests-OAuthlib</a></li>\\n<li class=\"toctree-l2\"><a class=\"reference internal\" href=\"community/recommended/#betamax\">Betamax</a></li>\\n</ul>\\n</li>\\n<li class=\"toctree-l1\"><a class=\"reference internal\" href=\"community/faq/\">Frequently Asked Questions</a><ul>\\n<li class=\"toctree-l2\"><a class=\"reference internal\" href=\"community/faq/#encoded-data\">Encoded Data?</a></li>\\n<li class=\"toctree-l2\"><a class=\"reference internal\" href=\"community/faq/#custom-user-agents\">Custom User-Agents?</a></li>\\n<li class=\"toctree-l2\"><a class=\"reference internal\" href=\"community/faq/#why-not-httplib2\">Why not Httplib2?</a></li>\\n<li class=\"toctree-l2\"><a class=\"reference internal\" href=\"community/faq/#python-3-support\">Python 3 Support?</a></li>\\n<li class=\"toctree-l2\"><a class=\"reference internal\" href=\"community/faq/#python-2-support\">Python 2 Support?</a></li>\\n<li class=\"toctree-l2\"><a class=\"reference internal\" href=\"community/faq/#what-are-hostname-doesn-t-match-errors\">What are \\xe2\\x80\\x9chostname doesn\\xe2\\x80\\x99t match\\xe2\\x80\\x9d errors?</a></li>\\n</ul>\\n</li>\\n<li class=\"toctree-l1\"><a class=\"reference internal\" href=\"community/out-there/\">Integrations</a><ul>\\n<li class=\"toctree-l2\"><a class=\"reference internal\" href=\"community/out-there/#python-for-ios\">Python for iOS</a></li>\\n</ul>\\n</li>\\n<li class=\"toctree-l1\"><a class=\"reference internal\" href=\"community/out-there/#articles-talks\">Articles &amp; Talks</a></li>\\n<li class=\"toctree-l1\"><a class=\"reference internal\" href=\"community/support/\">Support</a><ul>\\n<li class=\"toctree-l2\"><a class=\"reference internal\" href=\"community/support/#stack-overflow\">Stack Overflow</a></li>\\n<li class=\"toctree-l2\"><a class=\"reference internal\" href=\"community/support/#file-an-issue\">File an Issue</a></li>\\n<li class=\"toctree-l2\"><a class=\"reference internal\" href=\"community/support/#send-a-tweet\">Send a Tweet</a></li>\\n</ul>\\n</li>\\n<li class=\"toctree-l1\"><a class=\"reference internal\" href=\"community/vulnerabilities/\">Vulnerability Disclosure</a><ul>\\n<li class=\"toctree-l2\"><a class=\"reference internal\" href=\"community/vulnerabilities/#process\">Process</a></li>\\n<li class=\"toctree-l2\"><a class=\"reference internal\" href=\"community/vulnerabilities/#previous-cves\">Previous CVEs</a></li>\\n</ul>\\n</li>\\n<li class=\"toctree-l1\"><a class=\"reference internal\" href=\"community/release-process/\">Release Process and Rules</a><ul>\\n<li class=\"toctree-l2\"><a class=\"reference internal\" href=\"community/release-process/#major-releases\">Major Releases</a></li>\\n<li class=\"toctree-l2\"><a class=\"reference internal\" href=\"community/release-process/#minor-releases\">Minor Releases</a></li>\\n<li class=\"toctree-l2\"><a class=\"reference internal\" href=\"community/release-process/#hotfix-releases\">Hotfix Releases</a></li>\\n<li class=\"toctree-l2\"><a class=\"reference internal\" href=\"community/release-process/#reasoning\">Reasoning</a></li>\\n</ul>\\n</li>\\n</ul>\\n</div>\\n<div class=\"toctree-wrapper compound\">\\n<ul>\\n<li class=\"toctree-l1\"><a class=\"reference internal\" href=\"community/updates/\">Community Updates</a></li>\\n<li class=\"toctree-l1\"><a class=\"reference internal\" href=\"community/updates/#release-history\">Release History</a></li>\\n</ul>\\n</div>\\n</div>\\n<div class=\"section\" id=\"the-api-documentation-guide\">\\n<h2>The API Documentation / Guide<a class=\"headerlink\" href=\"#the-api-documentation-guide\" title=\"Permalink to this headline\">\\xc2\\xb6</a></h2>\\n<p>If you are looking for information on a specific function, class, or method,\\nthis part of the documentation is for you.</p>\\n<div class=\"toctree-wrapper compound\">\\n<ul>\\n<li class=\"toctree-l1\"><a class=\"reference internal\" href=\"api/\">Developer Interface</a><ul>\\n<li class=\"toctree-l2\"><a class=\"reference internal\" href=\"api/#main-interface\">Main Interface</a></li>\\n<li class=\"toctree-l2\"><a class=\"reference internal\" href=\"api/#exceptions\">Exceptions</a></li>\\n<li class=\"toctree-l2\"><a class=\"reference internal\" href=\"api/#request-sessions\">Request Sessions</a></li>\\n<li class=\"toctree-l2\"><a class=\"reference internal\" href=\"api/#lower-level-classes\">Lower-Level Classes</a></li>\\n<li class=\"toctree-l2\"><a class=\"reference internal\" href=\"api/#lower-lower-level-classes\">Lower-Lower-Level Classes</a></li>\\n<li class=\"toctree-l2\"><a class=\"reference internal\" href=\"api/#authentication\">Authentication</a></li>\\n<li class=\"toctree-l2\"><a class=\"reference internal\" href=\"api/#encodings\">Encodings</a></li>\\n<li class=\"toctree-l2\"><a class=\"reference internal\" href=\"api/#cookies\">Cookies</a></li>\\n<li class=\"toctree-l2\"><a class=\"reference internal\" href=\"api/#status-code-lookup\">Status Code Lookup</a></li>\\n<li class=\"toctree-l2\"><a class=\"reference internal\" href=\"api/#migrating-to-1-x\">Migrating to 1.x</a></li>\\n<li class=\"toctree-l2\"><a class=\"reference internal\" href=\"api/#migrating-to-2-x\">Migrating to 2.x</a></li>\\n</ul>\\n</li>\\n</ul>\\n</div>\\n</div>\\n<div class=\"section\" id=\"the-contributor-guide\">\\n<h2>The Contributor Guide<a class=\"headerlink\" href=\"#the-contributor-guide\" title=\"Permalink to this headline\">\\xc2\\xb6</a></h2>\\n<p>If you want to contribute to the project, this part of the documentation is for\\nyou.</p>\\n<div class=\"toctree-wrapper compound\">\\n<ul>\\n<li class=\"toctree-l1\"><a class=\"reference internal\" href=\"dev/contributing/\">Contributor\\xe2\\x80\\x99s Guide</a><ul>\\n<li class=\"toctree-l2\"><a class=\"reference internal\" href=\"dev/contributing/#be-cordial\">Be Cordial</a></li>\\n<li class=\"toctree-l2\"><a class=\"reference internal\" href=\"dev/contributing/#get-early-feedback\">Get Early Feedback</a></li>\\n<li class=\"toctree-l2\"><a class=\"reference internal\" href=\"dev/contributing/#contribution-suitability\">Contribution Suitability</a></li>\\n<li class=\"toctree-l2\"><a class=\"reference internal\" href=\"dev/contributing/#code-contributions\">Code Contributions</a><ul>\\n<li class=\"toctree-l3\"><a class=\"reference internal\" href=\"dev/contributing/#steps-for-submitting-code\">Steps for Submitting Code</a></li>\\n<li class=\"toctree-l3\"><a class=\"reference internal\" href=\"dev/contributing/#code-review\">Code Review</a></li>\\n<li class=\"toctree-l3\"><a class=\"reference internal\" href=\"dev/contributing/#new-contributors\">New Contributors</a></li>\\n<li class=\"toctree-l3\"><a class=\"reference internal\" href=\"dev/contributing/#kenneth-reitz-s-code-style\">Kenneth Reitz\\xe2\\x80\\x99s Code Style\\xe2\\x84\\xa2</a></li>\\n</ul>\\n</li>\\n<li class=\"toctree-l2\"><a class=\"reference internal\" href=\"dev/contributing/#documentation-contributions\">Documentation Contributions</a></li>\\n<li class=\"toctree-l2\"><a class=\"reference internal\" href=\"dev/contributing/#bug-reports\">Bug Reports</a></li>\\n<li class=\"toctree-l2\"><a class=\"reference internal\" href=\"dev/contributing/#feature-requests\">Feature Requests</a></li>\\n</ul>\\n</li>\\n<li class=\"toctree-l1\"><a class=\"reference internal\" href=\"dev/authors/\">Authors</a><ul>\\n<li class=\"toctree-l2\"><a class=\"reference internal\" href=\"dev/authors/#keepers-of-the-crystals\">Keepers of the Crystals</a></li>\\n<li class=\"toctree-l2\"><a class=\"reference internal\" href=\"dev/authors/#previous-keepers-of-crystals\">Previous Keepers of Crystals</a></li>\\n<li class=\"toctree-l2\"><a class=\"reference internal\" href=\"dev/authors/#patches-and-suggestions\">Patches and Suggestions</a></li>\\n</ul>\\n</li>\\n</ul>\\n</div>\\n<p>There are no more guides. You are now guideless.\\nGood luck.</p>\\n</div>\\n</div>\\n\\n\\n          </div>\\n          \\n        </div>\\n      </div>\\n      <div class=\"sphinxsidebar\" role=\"navigation\" aria-label=\"main navigation\">\\n        <div class=\"sphinxsidebarwrapper\"><p>\\n  <iframe src=\"https://ghbtns.com/github-btn.html?user=psf&repo=requests&type=watch&count=true&size=large\"\\n    allowtransparency=\"true\" frameborder=\"0\" scrolling=\"0\" width=\"200px\" height=\"35px\"></iframe>\\n</p>\\n<link rel=\"stylesheet\" href=\"https://cdn.jsdelivr.net/npm/docsearch.js@2/dist/cdn/docsearch.min.css\" />\\n<style>\\n  .algolia-autocomplete {\\n    width: 100%;\\n    height: 1.5em\\n  }\\n\\n  .algolia-autocomplete a {\\n    border-bottom: none !important;\\n  }\\n\\n  #doc_search {\\n    width: 100%;\\n    height: 100%;\\n  }\\n</style>\\n<input id=\"doc_search\" placeholder=\"Search the doc\" autofocus />\\n<script type=\"text/javascript\" src=\"https://cdn.jsdelivr.net/npm/docsearch.js@2/dist/cdn/docsearch.min.js\" onload=\"docsearch({\\n  apiKey: \\'f177061e2354c50a97bfc635e827ffab\\',\\n  indexName: \\'python-requests\\',\\n  inputSelector: \\'#doc_search\\',\\n  debug: false // Set debug to true if you want to inspect the dropdown\\n})\" async></script>\\n\\n<p>\\n  Requests is an elegant and simple HTTP library for Python, built for\\n  human beings.\\n</p>\\n<p>Sponsored by <strong><a href=\"https://www.govcert.lu\">CERT Gouvernemental - GOVCERT.LU</a></strong>.</p>\\n\\n<script async type=\"text/javascript\"\\n  src=\"//cdn.carbonads.com/carbon.js?zoneid=1673&serve=CKYI5K3E&placement=pythonrequestsorg\"\\n  id=\"_carbonads_js\"></script>\\n\\n<h3>Useful Links</h3>\\n<ul>\\n  <li><a href=\"https://requests.readthedocs.io/en/latest/user/quickstart/\">Quickstart</a></li>\\n  <li><a href=\"https://requests.readthedocs.io/en/latest/user/advanced/\">Advanced Usage</a></li>\\n  <li><a href=\"https://requests.readthedocs.io/en/latest/api/\">API Reference</a></li>\\n  <li><a href=\"https://requests.readthedocs.io/en/latest/community/updates/#release-history\">Release History</a></li>\\n  <li><a href=\"https://requests.readthedocs.io/en/latest/dev/contributing/\">Contributors Guide</a></li>\\n\\n  <p></p>\\n\\n  <li><a href=\"https://requests.readthedocs.io/en/latest/community/recommended/\">Recommended Packages and Extensions</a></li>\\n\\n  <p></p>\\n\\n  <li><a href=\"https://github.com/psf/requests\">Requests @ GitHub</a></li>\\n  <li><a href=\"https://pypi.org/project/requests/\">Requests @ PyPI</a></li>\\n  <li><a href=\"https://github.com/psf/requests/issues\">Issue Tracker</a></li>\\n</ul>\\n\\n\\n<h3>Translations</h3>\\n\\n<ul>\\n  <li><a href=\"https://requests.readthedocs.io/\">English</a></li>\\n  <li><a href=\"https://fr.python-requests.org/\">French</a></li>\\n  <li><a href=\"https://de.python-requests.org/\">German</a></li>\\n  <li><a href=\"https://jp.python-requests.org/\">Japanese</a></li>\\n  <li><a href=\"https://cn.python-requests.org/\">Chinese</a></li>\\n  <li><a href=\"https://pt.python-requests.org/\">Portuguese</a></li>\\n  <li><a href=\"https://it.python-requests.org/\">Italian</a></li>\\n  <li><a href=\"https://es.python-requests.org/\">Spanish</a></li>\\n</ul>\\n\\n<div id=\"native-ribbon\">\\n</div>\\n<div id=\"searchbox\" style=\"display: none\" role=\"search\">\\n  <h3>Quick search</h3>\\n    <div class=\"searchformwrapper\">\\n    <form class=\"search\" action=\"search/\" method=\"get\">\\n      <input type=\"text\" name=\"q\" />\\n      <input type=\"submit\" value=\"Go\" />\\n      <input type=\"hidden\" name=\"check_keywords\" value=\"yes\" />\\n      <input type=\"hidden\" name=\"area\" value=\"default\" />\\n    </form>\\n    </div>\\n</div>\\n<script type=\"text/javascript\">$(\\'#searchbox\\').show(0);</script><!-- Alabaster (krTheme++) Hacks -->\\n\\n<!-- CSS Adjustments (I\\'m very picky.) -->\\n<style type=\"text/css\">\\n\\n  /* Rezzy requires precise alignment. */\\n  img.logo {margin-left: -20px!important;}\\n\\n  /* \"Quick Search\" should be capitalized. */\\n  div#searchbox h3 {text-transform: capitalize;}\\n\\n  /* Make the document a little wider, less code is cut-off. */\\n  div.document {width: 1008px;}\\n\\n  /* Much-improved spacing around code blocks. */\\n  div.highlight pre {padding: 11px 14px;}\\n\\n  /* Remain Responsive! */\\n  @media screen and (max-width: 1008px) {\\n    div.sphinxsidebar {display: none;}\\n    div.document {width: 100%!important;}\\n\\n    /* Have code blocks escape the document right-margin. */\\n    div.highlight pre {margin-right: -30px;}\\n  }\\n</style>\\n\\n<!-- Native CPC by BuySellAds -->\\n\\n<script type=\"text/javascript\" src=\"//m.servedby-buysellads.com/monetization.js\"></script>\\n\\n<div id=\"native-ribbon\">\\n</div>\\n\\n<script>\\n_bsa.init(\\'custom\\', \\'CK7D62JU\\', \\'placement:pythonrequestsorg\\',\\n    {\\n      target: \\'#native-ribbon\\',\\n      template: `\\n<div class=\"native-sponsor\">Sponsored by ##company## \\xe2\\x80\\x94 Learn More</div>\\n  <a href=\"##link##\" class=\"native-flex\">\\n    <style>\\n    #native-ribbon #_custom_ {\\n      background: linear-gradient(-30deg, ##backgroundColor##E5, ##backgroundColor##E5 45%, ##backgroundColor## 45%) #fff;\\n    }\\n\\n    .native-details,\\n    .native-sponsor,\\n    .native-bsa {\\n      color: ##textColor## !important;\\n    }\\n\\n    .native-details:hover {\\n      color: ##textColorHover## !important;\\n    }\\n\\n    .native-cta {\\n      color: ##ctaTextColor##;\\n      background-color: ##ctaBackgroundColor##;\\n    }\\n\\n    .native-cta:hover {\\n      color: ##ctaTextColorHover##;\\n      background-color: ##ctaBackgroundColorHover##;\\n    }\\n    </style>\\n    <div class=\"native-main\">\\n      <img class=\"native-img\" src=\"##logo##\">\\n      <div class=\"native-details\">\\n        <span class=\"native-company\">##title##</span>\\n        <span class=\"native-desc\">##description##</span>\\n      </div>\\n    </div>\\n    <span class=\"native-cta\">##callToAction##</span>\\n  </a>\\n</div>\\n`\\n    }\\n  );\\n</script>\\n        </div>\\n      </div>\\n      <div class=\"clearer\"></div>\\n    </div>\\n    <div class=\"footer\">\\n      &copy;MMXVIX. A <a href=\"https://kenreitz.org/projects\">Kenneth Reitz</a> Project.\\n      \\n    </div>\\n\\n    \\n    <a href=\"https://github.com/requests/requests\" class=\"github\">\\n        <img style=\"position: absolute; top: 0; right: 0; border: 0;\" src=\"https://s3.amazonaws.com/github/ribbons/forkme_right_darkblue_121621.png\" alt=\"Fork me on GitHub\"  class=\"github\"/>\\n    </a>\\n    \\n\\n    \\n  </body>\\n</html>'"
      ]
     },
     "execution_count": 6,
     "metadata": {},
     "output_type": "execute_result"
    }
   ],
   "source": [
    "page_exp.content"
   ]
  },
  {
   "cell_type": "code",
   "execution_count": null,
   "metadata": {},
   "outputs": [],
   "source": []
  }
 ],
 "metadata": {
  "kernelspec": {
   "display_name": "Python 3",
   "language": "python",
   "name": "python3"
  },
  "language_info": {
   "codemirror_mode": {
    "name": "ipython",
    "version": 3
   },
   "file_extension": ".py",
   "mimetype": "text/x-python",
   "name": "python",
   "nbconvert_exporter": "python",
   "pygments_lexer": "ipython3",
   "version": "3.7.4"
  }
 },
 "nbformat": 4,
 "nbformat_minor": 2
}
