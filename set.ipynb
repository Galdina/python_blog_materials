{
 "cells": [
  {
   "cell_type": "markdown",
   "metadata": {},
   "source": [
    "*materials take from https://www.hackerrank.com/*\n",
    "\n",
    "# Set\n",
    "* A set is an unordered collection of elements without duplicate entries.\n",
    "* When printed, iterated or converted into a sequence, its elements will appear in an arbitrary order.\n",
    "* Basically, sets are used for membership testing and eliminating duplicate entries.\n"
   ]
  },
  {
   "cell_type": "code",
   "execution_count": 2,
   "metadata": {},
   "outputs": [
    {
     "name": "stdout",
     "output_type": "stream",
     "text": [
      "set()\n"
     ]
    }
   ],
   "source": [
    "print(set())"
   ]
  },
  {
   "cell_type": "code",
   "execution_count": 3,
   "metadata": {},
   "outputs": [
    {
     "name": "stdout",
     "output_type": "stream",
     "text": [
      "{'e', 'H', 'r', 'R', 'n', 'c', 'k', 'a'}\n"
     ]
    }
   ],
   "source": [
    "print(set('HackerRank'))"
   ]
  },
  {
   "cell_type": "code",
   "execution_count": 4,
   "metadata": {},
   "outputs": [
    {
     "name": "stdout",
     "output_type": "stream",
     "text": [
      "{0, 1, 2, 3, 4, 5, 6, 9, 12, 22}\n"
     ]
    }
   ],
   "source": [
    "print(set([1,2,1,2,3,4,5,6,0,9,12,22,3]))"
   ]
  },
  {
   "cell_type": "code",
   "execution_count": 5,
   "metadata": {},
   "outputs": [
    {
     "name": "stdout",
     "output_type": "stream",
     "text": [
      "{1, 2, 3, 4, 5}\n"
     ]
    }
   ],
   "source": [
    "print( set((1,2,3,4,5,5)))"
   ]
  },
  {
   "cell_type": "code",
   "execution_count": 6,
   "metadata": {},
   "outputs": [
    {
     "name": "stdout",
     "output_type": "stream",
     "text": [
      "{'c', 'e', 'k', 'a', 'H', 'r', 'n'}\n"
     ]
    }
   ],
   "source": [
    "print(set(set(['H','a','c','k','e','r','r','a','n','k'])))"
   ]
  },
  {
   "cell_type": "code",
   "execution_count": 7,
   "metadata": {},
   "outputs": [
    {
     "name": "stdout",
     "output_type": "stream",
     "text": [
      "{'Hacker', 'Rank'}\n"
     ]
    }
   ],
   "source": [
    "print(set({'Hacker' : 'DOSHI', 'Rank' : 616 }))"
   ]
  },
  {
   "cell_type": "code",
   "execution_count": 10,
   "metadata": {},
   "outputs": [
    {
     "name": "stdout",
     "output_type": "stream",
     "text": [
      "{(9, 'k'), (5, 'r'), (4, 'e'), (6, 'r'), (3, 'k'), (2, 'c'), (8, 'n'), (0, 'H'), (7, 'a'), (1, 'a')}\n"
     ]
    }
   ],
   "source": [
    "print(set(enumerate(['H','a','c','k','e','r','r','a','n','k'])))"
   ]
  },
  {
   "cell_type": "markdown",
   "metadata": {},
   "source": [
    "## Task\n",
    "\n",
    "Now, let's use our knowledge of sets and help Mickey.\n",
    "\n",
    "Ms. Gabriel Williams is a botany professor at District College. One day, she asked her student Mickey to compute the average of all the plants with distinct heights in her greenhouse.\n",
    "\n",
    "Formula used:\n",
    "\n",
    "$$ Avarage = \\frac{Sum of Distinct Heights}{Total Number of Distinct Heights} $$\n",
    "\n",
    "\n",
    "**Input Format**\n",
    "\n",
    "The first line contains the integer, $ N $, the total number of plants.\n",
    "\n",
    "The second line contains the $ N $ space separated heights of the plants.\n",
    "\n",
    "**Constraints**\n",
    "$$ 0 < N \\le 100$$\n",
    "\n",
    "**Output Format**\n",
    "\n",
    "Output the average height value on a single line.\n",
    "\n",
    "**Sample Input**\n",
    "\n",
    "10\n",
    "161 182 161 154 176 170 167 171 170 174\n",
    "\n",
    "**Sample Output**\n",
    "\n",
    "169.375\n",
    "\n",
    "**Explanation**\n",
    "\n",
    "Here, set $$ ([154,161,167,170,171,174,176,182]) $$ is the set containing the distinct heights. \n",
    "\n",
    "Using the *sum()* and *len()* functions, we can compute the average.\n",
    "\n",
    "$$ Average = \\frac{1355}{8} = {169.375}$$\n"
   ]
  },
  {
   "cell_type": "code",
   "execution_count": 19,
   "metadata": {},
   "outputs": [],
   "source": [
    "def average(array):\n",
    "    s = sum(set(array))\n",
    "    l = len(set(array))\n",
    "    a = s/l\n",
    "    return a\n"
   ]
  },
  {
   "cell_type": "code",
   "execution_count": 35,
   "metadata": {},
   "outputs": [],
   "source": [
    "def average_1line(array):\n",
    "    # your code goes here\n",
    "    try:\n",
    "        return sum(set(array))/len(set(array))\n",
    "    except NameError:\n",
    "        print(\"Empty Array\")\n",
    "        pass  "
   ]
  },
  {
   "cell_type": "code",
   "execution_count": 12,
   "metadata": {},
   "outputs": [],
   "source": [
    "array = [161, 182, 161, 154, 176, 170, 167, 171, 170, 174]"
   ]
  },
  {
   "cell_type": "code",
   "execution_count": 36,
   "metadata": {},
   "outputs": [
    {
     "name": "stdout",
     "output_type": "stream",
     "text": [
      "169.375\n"
     ]
    }
   ],
   "source": [
    "print(average_1line(array))"
   ]
  },
  {
   "cell_type": "markdown",
   "metadata": {},
   "source": [
    "## Symmetric Difference"
   ]
  },
  {
   "cell_type": "code",
   "execution_count": 38,
   "metadata": {},
   "outputs": [
    {
     "name": "stdout",
     "output_type": "stream",
     "text": [
      "5 4 3 2\n"
     ]
    }
   ],
   "source": [
    "# raw input\n",
    "a = input()"
   ]
  },
  {
   "cell_type": "code",
   "execution_count": 43,
   "metadata": {},
   "outputs": [
    {
     "name": "stdout",
     "output_type": "stream",
     "text": [
      "['5', '4', '3', '2']\n"
     ]
    }
   ],
   "source": [
    "lis = a.split()\n",
    "print(lis)"
   ]
  },
  {
   "cell_type": "code",
   "execution_count": 42,
   "metadata": {},
   "outputs": [
    {
     "name": "stdout",
     "output_type": "stream",
     "text": [
      "[5, 4, 3, 2]\n"
     ]
    }
   ],
   "source": [
    "newlis = list(map(int,lis))\n",
    "print(newlis)"
   ]
  },
  {
   "cell_type": "markdown",
   "metadata": {},
   "source": [
    "## Creating Sets "
   ]
  },
  {
   "cell_type": "code",
   "execution_count": 46,
   "metadata": {},
   "outputs": [
    {
     "data": {
      "text/plain": [
       "{'a', 'b'}"
      ]
     },
     "execution_count": 46,
     "metadata": {},
     "output_type": "execute_result"
    }
   ],
   "source": [
    "myset = {1, 2, 2} # Directly assigning values to a set\n",
    "myset = set()  # Initializing a set\n",
    "myset = set(['a', 'b', 'b']) # Creating a set from a list\n",
    "myset"
   ]
  },
  {
   "cell_type": "markdown",
   "metadata": {},
   "source": [
    "### MODIFYING SETS\n",
    "\n",
    "**.add()** \n",
    "\n",
    "If we want to add a single element to an existing set, we can use the **add()** operation.\n",
    "\n",
    "It adds the element to the set and returns *'None'*."
   ]
  },
  {
   "cell_type": "code",
   "execution_count": 47,
   "metadata": {},
   "outputs": [
    {
     "data": {
      "text/plain": [
       "{'a', 'b', 'c'}"
      ]
     },
     "execution_count": 47,
     "metadata": {},
     "output_type": "execute_result"
    }
   ],
   "source": [
    "myset.add('c')\n",
    "myset"
   ]
  },
  {
   "cell_type": "code",
   "execution_count": 48,
   "metadata": {},
   "outputs": [
    {
     "data": {
      "text/plain": [
       "{(5, 4), 'a', 'b', 'c'}"
      ]
     },
     "execution_count": 48,
     "metadata": {},
     "output_type": "execute_result"
    }
   ],
   "source": [
    "myset.add('a') # As 'a' already exists in the set, nothing happens\n",
    "myset.add((5, 4))\n",
    "myset"
   ]
  },
  {
   "cell_type": "code",
   "execution_count": 71,
   "metadata": {},
   "outputs": [
    {
     "name": "stdout",
     "output_type": "stream",
     "text": [
      "{'e', 'H', 'r', 'R', 'n', 'c', 'k', 'a'}\n"
     ]
    }
   ],
   "source": [
    "s = set('HackerRank')\n",
    "s.add('H')\n",
    "print(s)\n",
    "#set(['a', 'c', 'e', 'H', 'k', 'n', 'r', 'R'])"
   ]
  },
  {
   "cell_type": "code",
   "execution_count": 72,
   "metadata": {},
   "outputs": [
    {
     "name": "stdout",
     "output_type": "stream",
     "text": [
      "None\n"
     ]
    }
   ],
   "source": [
    "print(s.add('HackerRank'))\n",
    "#None"
   ]
  },
  {
   "cell_type": "code",
   "execution_count": 73,
   "metadata": {},
   "outputs": [
    {
     "name": "stdout",
     "output_type": "stream",
     "text": [
      "{'e', 'HackerRank', 'H', 'r', 'R', 'n', 'c', 'k', 'a'}\n"
     ]
    }
   ],
   "source": [
    "print(s)\n",
    "#set(['a', 'c', 'e', 'HackerRank', 'H', 'k', 'n', 'r', 'R'])"
   ]
  },
  {
   "cell_type": "markdown",
   "metadata": {},
   "source": [
    "***\n",
    "**.remove(x)**\n",
    "\n",
    "This operation removes element $x$ from the set.\n",
    "\n",
    "If element $x$ does not exist, it raises a $KeyError$.\n",
    "\n",
    "The **.remove(x)** operation returns $None$."
   ]
  },
  {
   "cell_type": "code",
   "execution_count": 1,
   "metadata": {},
   "outputs": [
    {
     "name": "stdout",
     "output_type": "stream",
     "text": [
      "{1, 2, 3, 4, 6, 7, 8, 9}\n"
     ]
    }
   ],
   "source": [
    "s = set([1, 2, 3, 4, 5, 6, 7, 8, 9])\n",
    "s.remove(5)\n",
    "print (s)\n",
    "#set([1, 2, 3, 4, 6, 7, 8, 9])"
   ]
  },
  {
   "cell_type": "code",
   "execution_count": 2,
   "metadata": {},
   "outputs": [
    {
     "name": "stdout",
     "output_type": "stream",
     "text": [
      "None\n"
     ]
    }
   ],
   "source": [
    "print (s.remove(4))\n",
    "#None"
   ]
  },
  {
   "cell_type": "code",
   "execution_count": 3,
   "metadata": {},
   "outputs": [
    {
     "name": "stdout",
     "output_type": "stream",
     "text": [
      "{1, 2, 3, 6, 7, 8, 9}\n"
     ]
    }
   ],
   "source": [
    "print (s)\n",
    "#set([1, 2, 3, 6, 7, 8, 9])"
   ]
  },
  {
   "cell_type": "code",
   "execution_count": 4,
   "metadata": {},
   "outputs": [
    {
     "ename": "KeyError",
     "evalue": "0",
     "output_type": "error",
     "traceback": [
      "\u001b[0;31m---------------------------------------------------------------------------\u001b[0m",
      "\u001b[0;31mKeyError\u001b[0m                                  Traceback (most recent call last)",
      "\u001b[0;32m<ipython-input-4-2d8e4dc92e2a>\u001b[0m in \u001b[0;36m<module>\u001b[0;34m\u001b[0m\n\u001b[0;32m----> 1\u001b[0;31m \u001b[0ms\u001b[0m\u001b[0;34m.\u001b[0m\u001b[0mremove\u001b[0m\u001b[0;34m(\u001b[0m\u001b[0;36m0\u001b[0m\u001b[0;34m)\u001b[0m\u001b[0;34m\u001b[0m\u001b[0;34m\u001b[0m\u001b[0m\n\u001b[0m\u001b[1;32m      2\u001b[0m \u001b[0;31m#KeyError: 0\u001b[0m\u001b[0;34m\u001b[0m\u001b[0;34m\u001b[0m\u001b[0;34m\u001b[0m\u001b[0m\n",
      "\u001b[0;31mKeyError\u001b[0m: 0"
     ]
    }
   ],
   "source": [
    "s.remove(0)\n",
    "#KeyError: 0"
   ]
  },
  {
   "cell_type": "markdown",
   "metadata": {},
   "source": [
    "**********\n",
    "**.discard(x)**\n",
    "\n",
    "This operation also removes element $x$ from the set.\n",
    "\n",
    "If element $x$ does not exist, it **does not** raise a $KeyError$.\n",
    "\n",
    "The **.discard(x)** operation returns $None$."
   ]
  },
  {
   "cell_type": "code",
   "execution_count": 6,
   "metadata": {},
   "outputs": [
    {
     "name": "stdout",
     "output_type": "stream",
     "text": [
      "{1, 2, 3, 4, 6, 7, 8, 9}\n"
     ]
    }
   ],
   "source": [
    "s = set([1, 2, 3, 4, 5, 6, 7, 8, 9])\n",
    "s.discard(5)\n",
    "print (s)\n",
    "#set([1, 2, 3, 4, 6, 7, 8, 9])"
   ]
  },
  {
   "cell_type": "code",
   "execution_count": 7,
   "metadata": {},
   "outputs": [
    {
     "name": "stdout",
     "output_type": "stream",
     "text": [
      "None\n"
     ]
    }
   ],
   "source": [
    "print (s.discard(4))\n",
    "#None"
   ]
  },
  {
   "cell_type": "code",
   "execution_count": 8,
   "metadata": {},
   "outputs": [
    {
     "name": "stdout",
     "output_type": "stream",
     "text": [
      "{1, 2, 3, 6, 7, 8, 9}\n"
     ]
    }
   ],
   "source": [
    "print (s)\n",
    "#set([1, 2, 3, 6, 7, 8, 9])"
   ]
  },
  {
   "cell_type": "code",
   "execution_count": 9,
   "metadata": {},
   "outputs": [
    {
     "name": "stdout",
     "output_type": "stream",
     "text": [
      "{1, 2, 3, 6, 7, 8, 9}\n"
     ]
    }
   ],
   "source": [
    "s.discard(0)\n",
    "print (s)\n",
    "#set([1, 2, 3, 6, 7, 8, 9])"
   ]
  },
  {
   "cell_type": "markdown",
   "metadata": {},
   "source": [
    "***********\n",
    "**.pop()**\n",
    "\n",
    "This operation removes and return an arbitrary element from the set.\n",
    "\n",
    "If there are no elements to remove, it raises a $KeyError$."
   ]
  },
  {
   "cell_type": "code",
   "execution_count": 10,
   "metadata": {},
   "outputs": [
    {
     "name": "stdout",
     "output_type": "stream",
     "text": [
      "1\n"
     ]
    }
   ],
   "source": [
    "s = set([1])\n",
    "print (s.pop())\n",
    "#1"
   ]
  },
  {
   "cell_type": "code",
   "execution_count": 11,
   "metadata": {},
   "outputs": [
    {
     "name": "stdout",
     "output_type": "stream",
     "text": [
      "set()\n"
     ]
    }
   ],
   "source": [
    "print (s)\n",
    "#set([])"
   ]
  },
  {
   "cell_type": "code",
   "execution_count": 12,
   "metadata": {},
   "outputs": [
    {
     "ename": "KeyError",
     "evalue": "'pop from an empty set'",
     "output_type": "error",
     "traceback": [
      "\u001b[0;31m---------------------------------------------------------------------------\u001b[0m",
      "\u001b[0;31mKeyError\u001b[0m                                  Traceback (most recent call last)",
      "\u001b[0;32m<ipython-input-12-927f3f256e37>\u001b[0m in \u001b[0;36m<module>\u001b[0;34m\u001b[0m\n\u001b[0;32m----> 1\u001b[0;31m \u001b[0mprint\u001b[0m \u001b[0;34m(\u001b[0m\u001b[0ms\u001b[0m\u001b[0;34m.\u001b[0m\u001b[0mpop\u001b[0m\u001b[0;34m(\u001b[0m\u001b[0;34m)\u001b[0m\u001b[0;34m)\u001b[0m\u001b[0;34m\u001b[0m\u001b[0;34m\u001b[0m\u001b[0m\n\u001b[0m\u001b[1;32m      2\u001b[0m \u001b[0;31m#KeyError: pop from an empty set\u001b[0m\u001b[0;34m\u001b[0m\u001b[0;34m\u001b[0m\u001b[0;34m\u001b[0m\u001b[0m\n",
      "\u001b[0;31mKeyError\u001b[0m: 'pop from an empty set'"
     ]
    }
   ],
   "source": [
    "print (s.pop())\n",
    "#KeyError: pop from an empty set"
   ]
  },
  {
   "cell_type": "markdown",
   "metadata": {},
   "source": [
    "******\n",
    "### Task\n",
    "\n",
    "You have a non-empty set $s$, and you have to execute $N$ commands given in $N$ lines.\n",
    "\n",
    "The commands will be pop, remove and discard.\n",
    "\n",
    "**Input Format**\n",
    "\n",
    "The first line contains integer $n$, the number of elements in the set $s$.\n",
    "\n",
    "The second line contains $n$ space separated elements of set $s$. All of the elements are non-negative integers, less than or equal to 9.\n",
    "\n",
    "The third line contains integer $N$, the number of commands.\n",
    "The next $N$ lines contains either pop, remove and/or discard commands followed by their associated value.\n",
    "\n",
    "**Constraints**\n",
    "\n",
    "$0 < n < 20$\n",
    "\n",
    "$0 < N < 20$ \n",
    "\n",
    "**Output Format**\n",
    "\n",
    "Print the sum of the elements of set $s$ on a single line.\n",
    "\n",
    "**Sample Input**\n",
    "\n",
    "9\\\n",
    "1 2 3 4 5 6 7 8 9\\\n",
    "10\\\n",
    "pop\\\n",
    "remove 9\\\n",
    "discard 9\\\n",
    "discard 8\\\n",
    "remove 7\\\n",
    "pop \\\n",
    "discard 6\\\n",
    "remove 5\\\n",
    "pop \\\n",
    "discard 5\n",
    "\n",
    "**Sample Output**\n",
    "\n",
    "4\n",
    "\n",
    "**Explanation**\n",
    "\n",
    "After completing these $10$ operations on the set $([4])$, we get set. Hence, the sum is $4$.\n",
    "\n",
    "**Note:** Convert the elements of set s to integers while you are assigning them. To ensure the proper input of the set, we have added the first two lines of code to the editor."
   ]
  },
  {
   "cell_type": "code",
   "execution_count": 13,
   "metadata": {},
   "outputs": [
    {
     "name": "stdout",
     "output_type": "stream",
     "text": [
      "9\n",
      "1 2 3 4 5 6 7 8 9\n",
      "10\n",
      "pop\n",
      "remove 9\n",
      "discard 9\n",
      "discard 8\n",
      "remove 7\n",
      "pop\n",
      "discard 6\n",
      "remove 5\n",
      "pop\n",
      "discard 5\n",
      "4\n"
     ]
    }
   ],
   "source": [
    "n = int(input())\n",
    "s = set(map(int, input().split())) \n",
    "for i in range(int(input())):\n",
    "    eval('s.{0}({1})'.format(*input().split()+['']))\n",
    "\n",
    "print(sum(s))"
   ]
  },
  {
   "cell_type": "markdown",
   "metadata": {},
   "source": [
    "********\n",
    "## Task\n",
    "\n",
    "Apply your knowledge of the .add() operation to help your friend Rupal.\n",
    "\n",
    "Rupal has a huge collection of country stamps. She decided to count the total number of distinct country stamps in her collection. She asked for your help. You pick the stamps one by one from a stack of $N$ country stamps.\n",
    "\n",
    "Find the total number of distinct country stamps.\n",
    "\n",
    "**Input Format**\n",
    "\n",
    "The first line contains an integer , the total number of country stamps.\n",
    "The next  lines contains the name of the country where the stamp is from.\n",
    "\n",
    "**Constraints**\n",
    "\n",
    "$0 < N < 1000$\n",
    "\n",
    "**Output Format**\n",
    "\n",
    "Output the total number of distinct country stamps on a single line.\n",
    "\n",
    "**Sample Input**\n",
    "\n",
    "7 \\\n",
    "UK \\\n",
    "China\\\n",
    "USA \\\n",
    "France \\\n",
    "New Zealand \\\n",
    "UK \\\n",
    "France \n",
    "\n",
    "**Sample Output**\n",
    "\n",
    "5\n",
    "\n",
    "**Explanation**\n",
    "\n",
    "UK and France repeat twice. Hence, the total number of distinct country stamps is  5(five)."
   ]
  },
  {
   "cell_type": "code",
   "execution_count": 75,
   "metadata": {},
   "outputs": [
    {
     "name": "stdout",
     "output_type": "stream",
     "text": [
      "7  UK  China USA  France  New Zealand  UK  France\n"
     ]
    }
   ],
   "source": [
    "i = input()"
   ]
  },
  {
   "cell_type": "code",
   "execution_count": 85,
   "metadata": {},
   "outputs": [
    {
     "name": "stdout",
     "output_type": "stream",
     "text": [
      "7\n",
      "UK\n",
      "China\n",
      "USA\n",
      "France\n",
      "New Zealand\n",
      "UK\n",
      "France\n",
      "5\n"
     ]
    }
   ],
   "source": [
    "s = set()\n",
    "for _ in range(int(input())):\n",
    "    s.add(input())\n",
    "print(len(s))"
   ]
  },
  {
   "cell_type": "code",
   "execution_count": 86,
   "metadata": {},
   "outputs": [
    {
     "name": "stdout",
     "output_type": "stream",
     "text": [
      "7 \n",
      "UK\n",
      "China\n",
      "USA\n",
      "France\n",
      "New Zealand\n",
      "UK\n",
      "France\n",
      "5\n"
     ]
    }
   ],
   "source": [
    "print(len(set([str(input()) for x in range(int(input()))])))"
   ]
  },
  {
   "cell_type": "markdown",
   "metadata": {},
   "source": [
    "Using the **update()** function:"
   ]
  },
  {
   "cell_type": "code",
   "execution_count": 49,
   "metadata": {},
   "outputs": [
    {
     "data": {
      "text/plain": [
       "{(5, 4), 1, 2, 3, 4, 'a', 'b', 'c'}"
      ]
     },
     "execution_count": 49,
     "metadata": {},
     "output_type": "execute_result"
    }
   ],
   "source": [
    "myset.update([1, 2, 3, 4]) # update() only works for iterable objects\n",
    "myset"
   ]
  },
  {
   "cell_type": "code",
   "execution_count": 50,
   "metadata": {},
   "outputs": [
    {
     "data": {
      "text/plain": [
       "{(5, 4), 1, 2, 3, 4, 7, 8, 'a', 'b', 'c'}"
      ]
     },
     "execution_count": 50,
     "metadata": {},
     "output_type": "execute_result"
    }
   ],
   "source": [
    "myset.update({1, 7, 8})\n",
    "myset"
   ]
  },
  {
   "cell_type": "code",
   "execution_count": 51,
   "metadata": {},
   "outputs": [
    {
     "data": {
      "text/plain": [
       "{(5, 4), 1, 13, 2, 3, 4, 5, 6, 7, 8, 'a', 'b', 'c'}"
      ]
     },
     "execution_count": 51,
     "metadata": {},
     "output_type": "execute_result"
    }
   ],
   "source": [
    "myset.update({1, 6}, [5, 13])\n",
    "myset"
   ]
  },
  {
   "cell_type": "markdown",
   "metadata": {},
   "source": [
    "## REMOVING ITEMS\n",
    "\n",
    "Both the **discard()** and **remove()** functions take a single value as an argument and removes that value from the set. If that value is not present, **discard()** does nothing, but **remove()** will raise a KeyError exception."
   ]
  },
  {
   "cell_type": "code",
   "execution_count": 52,
   "metadata": {},
   "outputs": [
    {
     "data": {
      "text/plain": [
       "{(5, 4), 1, 13, 2, 3, 4, 5, 6, 7, 8, 'a', 'b', 'c'}"
      ]
     },
     "execution_count": 52,
     "metadata": {},
     "output_type": "execute_result"
    }
   ],
   "source": [
    "myset.discard(10)\n",
    "myset"
   ]
  },
  {
   "cell_type": "code",
   "execution_count": 53,
   "metadata": {},
   "outputs": [
    {
     "data": {
      "text/plain": [
       "{(5, 4), 1, 2, 3, 4, 5, 6, 7, 8, 'a', 'b', 'c'}"
      ]
     },
     "execution_count": 53,
     "metadata": {},
     "output_type": "execute_result"
    }
   ],
   "source": [
    "myset.remove(13)\n",
    "myset"
   ]
  },
  {
   "cell_type": "markdown",
   "metadata": {},
   "source": [
    "## COMMON SET OPERATIONS \n",
    "<img src=\"./img/AuB.png\" />\n",
    "\n",
    "The **.union()** operator returns the union of a set and the set of elements in an iterable.\n",
    "\n",
    "Sometimes, the $|$ operator is used in place of **.union()** operator, but it operates only on the set of elements in set.\n",
    "\n",
    "Set is immutable to the **.union()** operation (or | operation)."
   ]
  },
  {
   "cell_type": "code",
   "execution_count": 54,
   "metadata": {},
   "outputs": [
    {
     "data": {
      "text/plain": [
       "{2, 4, 5, 9, 11, 12}"
      ]
     },
     "execution_count": 54,
     "metadata": {},
     "output_type": "execute_result"
    }
   ],
   "source": [
    "a = {2, 4, 5, 9}\n",
    "b = {2, 4, 11, 12}\n",
    "a.union(b) # Values which exist in a or b"
   ]
  },
  {
   "cell_type": "code",
   "execution_count": 14,
   "metadata": {},
   "outputs": [
    {
     "name": "stdout",
     "output_type": "stream",
     "text": [
      "{'R', 'a', 'e', 'H', 'r', 'k', 'c', 'n'}\n"
     ]
    }
   ],
   "source": [
    "s = set(\"Hacker\")\n",
    "print( s.union(\"Rank\"))\n",
    "#set(['a', 'R', 'c', 'r', 'e', 'H', 'k', 'n'])"
   ]
  },
  {
   "cell_type": "code",
   "execution_count": 15,
   "metadata": {},
   "outputs": [
    {
     "name": "stdout",
     "output_type": "stream",
     "text": [
      "{'R', 'e', 'k', 'c', 'a', 'H', 'r', 'n'}\n"
     ]
    }
   ],
   "source": [
    "print (s.union(set(['R', 'a', 'n', 'k'])))\n",
    "#set(['a', 'R', 'c', 'r', 'e', 'H', 'k', 'n'])"
   ]
  },
  {
   "cell_type": "code",
   "execution_count": 16,
   "metadata": {},
   "outputs": [
    {
     "name": "stdout",
     "output_type": "stream",
     "text": [
      "{'R', 'a', 'e', 'H', 'r', 'k', 'c', 'n'}\n"
     ]
    }
   ],
   "source": [
    "print (s.union(['R', 'a', 'n', 'k']))\n",
    "#set(['a', 'R', 'c', 'r', 'e', 'H', 'k', 'n'])"
   ]
  },
  {
   "cell_type": "code",
   "execution_count": 18,
   "metadata": {},
   "outputs": [
    {
     "name": "stdout",
     "output_type": "stream",
     "text": [
      "{(2, 'n'), 'k', 'c', (3, 'k'), 'a', 'H', 'r', (1, 'a'), 'e', (0, 'R')}\n"
     ]
    }
   ],
   "source": [
    "print (s.union(enumerate(['R', 'a', 'n', 'k'])))\n",
    "#set(['a', 'c', 'r', 'e', (1, 'a'), (2, 'n'), 'H', 'k', (3, 'k'), (0, 'R')])"
   ]
  },
  {
   "cell_type": "code",
   "execution_count": 19,
   "metadata": {},
   "outputs": [
    {
     "name": "stdout",
     "output_type": "stream",
     "text": [
      "{'a', 'e', 'H', 'r', 'k', 'c', 'Rank'}\n"
     ]
    }
   ],
   "source": [
    "print (s.union({\"Rank\":1}))\n",
    "#set(['a', 'c', 'r', 'e', 'H', 'k', 'Rank'])"
   ]
  },
  {
   "cell_type": "code",
   "execution_count": 20,
   "metadata": {},
   "outputs": [
    {
     "data": {
      "text/plain": [
       "{'H', 'R', 'a', 'c', 'e', 'k', 'n', 'r'}"
      ]
     },
     "execution_count": 20,
     "metadata": {},
     "output_type": "execute_result"
    }
   ],
   "source": [
    "s | set(\"Rank\")\n",
    "#set(['a', 'R', 'c', 'r', 'e', 'H', 'k', 'n'])"
   ]
  },
  {
   "cell_type": "markdown",
   "metadata": {},
   "source": [
    "***\n",
    "### Task\n",
    "\n",
    "The students of District College have subscriptions to English and French newspapers. Some students have subscribed only to English, some have subscribed to only French and some have subscribed to both newspapers.\n",
    "\n",
    "You are given two sets of student roll numbers. One set has subscribed to the English newspaper, and the other set is subscribed to the French newspaper. The same student could be in both sets. Your task is to find the total number of students who have subscribed to at least one newspaper.\n",
    "\n",
    "**Input Format**\n",
    "\n",
    "The first line contains an integer, $n$, the number of students who have subscribed to the English newspaper.\n",
    "The second line contains $n$ space separated roll numbers of those students.\n",
    "The third line contains $b$, the number of students who have subscribed to the French newspaper.\n",
    "The fourth line contains $b$ space separated roll numbers of those students.\n",
    "\n",
    "**Constraints**\n",
    "\n",
    "$0 < Total number of students in college < 1000$\n",
    "\n",
    "**Output Format**\n",
    "\n",
    "Output the total number of students who have at least one subscription.\n",
    "\n",
    "**Sample Input**\n",
    "\n",
    "9\\\n",
    "1 2 3 4 5 6 7 8 9\\\n",
    "9\\\n",
    "10 1 2 3 11 21 55 6 8\n",
    "\n",
    "**Sample Output**\n",
    "\n",
    "13\n",
    "\n",
    "**Explanation**\n",
    "\n",
    "Roll numbers of students who have at least one subscription: $1,2,3,4,5,6,7,8,9,10,11,21$ and $55$. Roll numbers: $1,2,3,6$ and $8$ are in both sets so they are only counted once.\n",
    "Hence, the total is $13$ students."
   ]
  },
  {
   "cell_type": "code",
   "execution_count": 56,
   "metadata": {},
   "outputs": [
    {
     "data": {
      "text/plain": [
       "{2, 4}"
      ]
     },
     "execution_count": 56,
     "metadata": {},
     "output_type": "execute_result"
    }
   ],
   "source": [
    "a.intersection(b) # Values which exist in a and b"
   ]
  },
  {
   "cell_type": "code",
   "execution_count": 57,
   "metadata": {},
   "outputs": [
    {
     "data": {
      "text/plain": [
       "{5, 9}"
      ]
     },
     "execution_count": 57,
     "metadata": {},
     "output_type": "execute_result"
    }
   ],
   "source": [
    "a.difference(b) # Values which exist in a but not in b"
   ]
  },
  {
   "cell_type": "markdown",
   "metadata": {},
   "source": [
    "***\n",
    "The **union()** and **intersection()** functions are symmetric methods:"
   ]
  },
  {
   "cell_type": "code",
   "execution_count": 58,
   "metadata": {},
   "outputs": [
    {
     "data": {
      "text/plain": [
       "True"
      ]
     },
     "execution_count": 58,
     "metadata": {},
     "output_type": "execute_result"
    }
   ],
   "source": [
    "a.union(b) == b.union(a)\n",
    "# True"
   ]
  },
  {
   "cell_type": "code",
   "execution_count": 59,
   "metadata": {},
   "outputs": [
    {
     "data": {
      "text/plain": [
       "True"
      ]
     },
     "execution_count": 59,
     "metadata": {},
     "output_type": "execute_result"
    }
   ],
   "source": [
    "a.intersection(b) == b.intersection(a)\n",
    "#True"
   ]
  },
  {
   "cell_type": "code",
   "execution_count": 60,
   "metadata": {},
   "outputs": [
    {
     "data": {
      "text/plain": [
       "False"
      ]
     },
     "execution_count": 60,
     "metadata": {},
     "output_type": "execute_result"
    }
   ],
   "source": [
    "a.difference(b) == b.difference(a)\n",
    "#False"
   ]
  },
  {
   "cell_type": "markdown",
   "metadata": {},
   "source": [
    "## Task\n",
    "Given 2 sets of integers, $M$ and $N$, print their symmetric difference in ascending order. The term symmetric difference indicates those values that exist in either   $M$ or $N $  but do not exist in both.\n",
    "\n",
    "**Input Format**\n",
    "\n",
    "The first line of input contains an integer, $M$. \\\n",
    "The second line contains $M$ space-separated integers. \\\n",
    "The third line contains an integer, $N$. \\\n",
    "The fourth line contains $N$ space-separated integers.\n",
    "\n",
    "**Output Format**\n",
    "\n",
    "Output the symmetric difference integers in ascending order, one per line.\n",
    "\n",
    "**Sample Input**\n",
    "\n",
    "4 \\\n",
    "2 4 5 9 \\\n",
    "4 \\\n",
    "2 4 11 12 \n",
    "\n",
    "**Sample Output**\n",
    "\n",
    "5 \\\n",
    "9 \\\n",
    "11 \\\n",
    "12 "
   ]
  },
  {
   "cell_type": "code",
   "execution_count": 68,
   "metadata": {},
   "outputs": [
    {
     "name": "stdout",
     "output_type": "stream",
     "text": [
      "4\n",
      "2 4 5 9\n"
     ]
    }
   ],
   "source": [
    "m = [set(input().split()) for _ in range(2)][1::2]"
   ]
  },
  {
   "cell_type": "code",
   "execution_count": 69,
   "metadata": {},
   "outputs": [
    {
     "data": {
      "text/plain": [
       "[{'2', '4', '5', '9'}]"
      ]
     },
     "execution_count": 69,
     "metadata": {},
     "output_type": "execute_result"
    }
   ],
   "source": [
    "m"
   ]
  },
  {
   "cell_type": "code",
   "execution_count": 61,
   "metadata": {},
   "outputs": [
    {
     "name": "stdout",
     "output_type": "stream",
     "text": [
      "4\n",
      "2 4 5 9\n",
      "4\n",
      "2 4 11 12\n",
      "5\n",
      "9\n",
      "11\n",
      "12\n"
     ]
    }
   ],
   "source": [
    "a,b = [set(input().split()) for _ in range(4)][1::2]\n",
    "print(*sorted(a^b, key=int), sep='\\n')"
   ]
  },
  {
   "cell_type": "code",
   "execution_count": null,
   "metadata": {},
   "outputs": [],
   "source": []
  }
 ],
 "metadata": {
  "kernelspec": {
   "display_name": "Python 3",
   "language": "python",
   "name": "python3"
  },
  "language_info": {
   "codemirror_mode": {
    "name": "ipython",
    "version": 3
   },
   "file_extension": ".py",
   "mimetype": "text/x-python",
   "name": "python",
   "nbconvert_exporter": "python",
   "pygments_lexer": "ipython3",
   "version": "3.7.4"
  }
 },
 "nbformat": 4,
 "nbformat_minor": 2
}
