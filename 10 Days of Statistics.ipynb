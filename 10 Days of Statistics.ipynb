{
 "cells": [
  {
   "cell_type": "markdown",
   "metadata": {},
   "source": [
    "# Day 0: Mean, Median, and Mode\n",
    "\n",
    "Task\n",
    "Given an array, $X$,  of $N$  integers, calculate and print the respective mean, median, and mode on separate lines. If your array contains more than one modal value, choose the numerically smallest one."
   ]
  },
  {
   "cell_type": "code",
   "execution_count": 2,
   "metadata": {},
   "outputs": [
    {
     "name": "stdout",
     "output_type": "stream",
     "text": [
      "10\n",
      "56\n",
      "56.0\n",
      "56.0\n",
      "56\n"
     ]
    }
   ],
   "source": [
    "import numpy as np\n",
    "from scipy import stats\n",
    "\n",
    "size = int(input())\n",
    "numbers = list(map(int, input().split()))\n",
    "print(np.mean(numbers))\n",
    "print(np.median(numbers))\n",
    "print(int(stats.mode(numbers)[0]))"
   ]
  },
  {
   "cell_type": "code",
   "execution_count": 5,
   "metadata": {},
   "outputs": [
    {
     "name": "stdout",
     "output_type": "stream",
     "text": [
      "10\n",
      "64630 11735 14216 99233 14470 4978 73429 38120 51135 67060\n",
      "43900.6\n",
      "44627.5\n",
      "4978\n"
     ]
    }
   ],
   "source": [
    "from collections import Counter\n",
    "\n",
    "n = int(input())\n",
    "data = sorted([int(i) for i in input().split()])\n",
    "\n",
    "Mean = sum(data)/n\n",
    "Median = (data[n // 2] + data[-(n//2 + 1)]) / 2\n",
    "Mode = sorted(sorted(Counter(data).items()), key = lambda x: x[1], reverse = True)[0][0]\n",
    "\n",
    "print(Mean, Median, Mode, sep = '\\n')"
   ]
  },
  {
   "cell_type": "markdown",
   "metadata": {},
   "source": [
    "# Weighted Mean\n",
    "\n"
   ]
  },
  {
   "cell_type": "code",
   "execution_count": 1,
   "metadata": {},
   "outputs": [
    {
     "name": "stdout",
     "output_type": "stream",
     "text": [
      "5\n",
      "10 40 30 50 20\n",
      "1 2 3 4 5\n",
      "32.0\n"
     ]
    }
   ],
   "source": [
    "n,s=int(input()),0\n",
    "a=list(map(int,input().split()))\n",
    "b=list(map(int,input().split()))\n",
    "for i in range(n): s+=a[i]*b[i]\n",
    "print(round(s/sum(b),1))\n"
   ]
  },
  {
   "cell_type": "markdown",
   "metadata": {},
   "source": [
    "# Day 1: Standard Deviation"
   ]
  },
  {
   "cell_type": "code",
   "execution_count": 2,
   "metadata": {},
   "outputs": [
    {
     "name": "stdout",
     "output_type": "stream",
     "text": [
      "5\n",
      "10 40 30 50 20\n",
      "14.1\n"
     ]
    }
   ],
   "source": [
    "n = int(input().strip())\n",
    "X = [int(x) for x in input().strip().split()]\n",
    "\n",
    "mean = sum(X) / n\n",
    "variance = sum([((x - mean) ** 2) for x in X]) / n\n",
    "stddev = variance ** 0.5\n",
    "\n",
    "print(\"{0:0.1f}\".format(stddev))"
   ]
  },
  {
   "cell_type": "code",
   "execution_count": 4,
   "metadata": {},
   "outputs": [
    {
     "name": "stdout",
     "output_type": "stream",
     "text": [
      "5\n",
      "10 40 30 50 20\n",
      "14.1\n"
     ]
    }
   ],
   "source": [
    "n = int(input().strip())\n",
    "X = [int(x) for x in input().strip().split()]\n",
    "\n",
    "#mean = sum(X) / n\n",
    "#variance = sum([((x - sum(X) / n) ** 2) for x in X]) / n\n",
    "#stddev = (sum([((x - sum(X) / n) ** 2) for x in X]) / n) ** 0.5\n",
    "\n",
    "print(\"{0:0.1f}\".format((sum([((x - sum(X) / n) ** 2) for x in X]) / n) ** 0.5))"
   ]
  },
  {
   "cell_type": "markdown",
   "metadata": {},
   "source": [
    "# Day 1: Quartiles"
   ]
  },
  {
   "cell_type": "code",
   "execution_count": 1,
   "metadata": {},
   "outputs": [
    {
     "name": "stdout",
     "output_type": "stream",
     "text": [
      "9\n",
      "3 7 8 5 12 14 21 13 18\n",
      "6\n",
      "12\n",
      "16\n"
     ]
    }
   ],
   "source": [
    "from statistics import median\n",
    "n=int(input())\n",
    "arr=[int(x) for x in input().split()]\n",
    "arr.sort()\n",
    "t=int(len(arr)/2)\n",
    "if len(arr)%2==0:\n",
    "    L=arr[:t]\n",
    "    U=arr[t:]\n",
    "else:\n",
    "    L=arr[:t]\n",
    "    U=arr[t+1:]\n",
    "    \n",
    "print(int(median(L)))\n",
    "print(int(median(arr)))\n",
    "print(int(median(U)))"
   ]
  },
  {
   "cell_type": "markdown",
   "metadata": {},
   "source": [
    "# Day 1: Interquartile Range\n",
    "\n"
   ]
  },
  {
   "cell_type": "code",
   "execution_count": null,
   "metadata": {},
   "outputs": [],
   "source": []
  }
 ],
 "metadata": {
  "kernelspec": {
   "display_name": "Python 3",
   "language": "python",
   "name": "python3"
  },
  "language_info": {
   "codemirror_mode": {
    "name": "ipython",
    "version": 3
   },
   "file_extension": ".py",
   "mimetype": "text/x-python",
   "name": "python",
   "nbconvert_exporter": "python",
   "pygments_lexer": "ipython3",
   "version": "3.7.4"
  }
 },
 "nbformat": 4,
 "nbformat_minor": 2
}
