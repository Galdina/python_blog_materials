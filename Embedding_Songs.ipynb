{
  "nbformat": 4,
  "nbformat_minor": 0,
  "metadata": {
    "kernelspec": {
      "display_name": "Python 3",
      "language": "python",
      "name": "python3"
    },
    "language_info": {
      "codemirror_mode": {
        "name": "ipython",
        "version": 3
      },
      "file_extension": ".py",
      "mimetype": "text/x-python",
      "name": "python",
      "nbconvert_exporter": "python",
      "pygments_lexer": "ipython3",
      "version": "3.7.3"
    },
    "colab": {
      "name": "Embedding Songs.ipynb",
      "provenance": []
    }
  },
  "cells": [
    {
      "cell_type": "markdown",
      "metadata": {
        "id": "Qn0kiKeiJzR3"
      },
      "source": [
        "# Song Embeddings \n",
        "\n",
        "In this notebook, we'll use human-made music playlists to learn song embeddings. We'll treat a playlist as if it's a sentence and the songs it contains as words. We feed that to the word2vec algorithm which then learns embeddings for every song we have. These embeddings can then be used to recommend similar songs. This technique is used by Spotify, AirBnB, Alibaba, and others."
      ]
    },
    {
      "cell_type": "markdown",
      "metadata": {
        "id": "nLJjlV_MJzR4"
      },
      "source": [
        "## Importing packages and dataset"
      ]
    },
    {
      "cell_type": "code",
      "metadata": {
        "id": "DjCkD_O4JzR5"
      },
      "source": [
        "import numpy as np\n",
        "import pandas as pd\n",
        "import gensim \n",
        "from gensim.models import Word2Vec\n",
        "from urllib import request\n",
        "import warnings\n",
        "warnings.filterwarnings('ignore')"
      ],
      "execution_count": null,
      "outputs": []
    },
    {
      "cell_type": "markdown",
      "metadata": {
        "id": "8o8IWI5HJzR9"
      },
      "source": [
        "The playlist dataset is a text file where every line represents a playlist. That playlist is basically a series of song IDs. "
      ]
    },
    {
      "cell_type": "code",
      "metadata": {
        "id": "o2qaaX6SJzR_"
      },
      "source": [
        "# Get the playlist dataset file\n",
        "data = request.urlopen('https://storage.googleapis.com/maps-premium/dataset/yes_complete/train.txt')\n",
        "\n",
        "# Parse the playlist dataset file. Skip the first two lines as \n",
        "# they only contain metadata\n",
        "lines = data.read().decode(\"utf-8\").split('\\n')[2:] \n",
        "\n",
        "# Remove playlists with only one song\n",
        "playlists = [s.rstrip().split() for s in lines if len(s.split()) > 1]\n"
      ],
      "execution_count": null,
      "outputs": []
    },
    {
      "cell_type": "markdown",
      "metadata": {
        "id": "RXQsINptJzSD"
      },
      "source": [
        "The `playlists` variable now contains a python list. Each item in this list is a playlist containing song ids. We can look at the first two playlists here:"
      ]
    },
    {
      "cell_type": "code",
      "metadata": {
        "scrolled": false,
        "id": "suXLSoj5JzSU",
        "outputId": "d96a3dcb-a02b-4949-b0ef-a020439cf814",
        "colab": {
          "base_uri": "https://localhost:8080/"
        }
      },
      "source": [
        "print( 'Playlist #1:\\n ', playlists[0], '\\n')\n",
        "print( 'Playlist #2:\\n ', playlists[1])"
      ],
      "execution_count": null,
      "outputs": [
        {
          "output_type": "stream",
          "text": [
            "Playlist #1:\n",
            "  ['0', '1', '2', '3', '4', '5', '6', '7', '8', '9', '10', '11', '12', '13', '14', '15', '16', '17', '18', '19', '20', '21', '22', '23', '24', '25', '26', '27', '28', '29', '30', '31', '32', '33', '34', '35', '36', '37', '38', '39', '40', '41', '2', '42', '43', '44', '45', '46', '47', '48', '20', '49', '8', '50', '51', '52', '53', '54', '55', '56', '57', '25', '58', '59', '60', '61', '62', '3', '63', '64', '65', '66', '46', '47', '67', '2', '48', '68', '69', '70', '57', '50', '71', '72', '53', '73', '25', '74', '59', '20', '46', '75', '76', '77', '59', '20', '43'] \n",
            "\n",
            "Playlist #2:\n",
            "  ['78', '79', '80', '3', '62', '81', '14', '82', '48', '83', '84', '17', '85', '86', '87', '88', '74', '89', '90', '91', '4', '73', '62', '92', '17', '53', '59', '93', '94', '51', '50', '27', '95', '48', '96', '97', '98', '99', '100', '57', '101', '102', '25', '103', '3', '104', '105', '106', '107', '47', '108', '109', '110', '111', '112', '113', '25', '63', '62', '114', '115', '84', '116', '117', '118', '119', '120', '121', '122', '123', '50', '70', '71', '124', '17', '85', '14', '82', '48', '125', '47', '46', '72', '53', '25', '73', '4', '126', '59', '74', '20', '43', '127', '128', '129', '13', '82', '48', '130', '131', '132', '133', '134', '135', '136', '137', '59', '46', '138', '43', '20', '139', '140', '73', '57', '70', '141', '3', '1', '74', '142', '143', '144', '145', '48', '13', '25', '146', '50', '147', '126', '59', '20', '148', '149', '150', '151', '152', '56', '153', '154', '155', '156', '157', '158', '159', '160', '161', '162', '163', '164', '165', '166', '167', '168', '169', '170', '171', '172', '173', '174', '175', '60', '176', '51', '177', '178', '179', '180', '181', '182', '183', '184', '185', '57', '186', '187', '188', '189', '190', '191', '46', '192', '193', '194', '195', '196', '197', '198', '25', '199', '200', '49', '201', '100', '202', '203', '204', '205', '206', '207', '32', '208', '209', '210']\n"
          ],
          "name": "stdout"
        }
      ]
    },
    {
      "cell_type": "markdown",
      "metadata": {
        "id": "3ShdD5-lJzSZ"
      },
      "source": [
        "## Training the Word2Vec Model\n",
        "Our dataset is now in the shape the the Word2Vec model expects as input. We pass the dataset to the model, and set the following key parameters:\n",
        " * **size**: Embedding size for the songs. \n",
        " * **window**: word2vec algorithm parameter -- maximum distance between the current and predicted word (song) within a sentence\n",
        " * **negative**: word2vec algorithm parameter -- Number of negative examples to use at each training step that the model needs to identify as noise\n"
      ]
    },
    {
      "cell_type": "code",
      "metadata": {
        "id": "rEfuTFyFJzSZ",
        "outputId": "3b17cdc9-8ed7-4aa2-f79a-bc13661f5b87",
        "colab": {
          "base_uri": "https://localhost:8080/"
        }
      },
      "source": [
        "%%time\n",
        "model = Word2Vec(playlists, size=32, window=20, negative=50, min_count=1, workers=4)"
      ],
      "execution_count": null,
      "outputs": [
        {
          "output_type": "stream",
          "text": [
            "CPU times: user 2min 44s, sys: 274 ms, total: 2min 44s\n",
            "Wall time: 1min 32s\n"
          ],
          "name": "stdout"
        }
      ]
    },
    {
      "cell_type": "markdown",
      "metadata": {
        "id": "n0tqsF2zJzSc"
      },
      "source": [
        "The model is now trained. Every song has an embedding. We only have song IDs, though, no titles or other info. Let's grab the song information file."
      ]
    },
    {
      "cell_type": "markdown",
      "metadata": {
        "id": "fCfBAMz0JzSh"
      },
      "source": [
        "## Song Title and Artist File\n",
        "Let's load and parse the file containing song titles and artists"
      ]
    },
    {
      "cell_type": "code",
      "metadata": {
        "id": "QFphp8SKJzSh"
      },
      "source": [
        "songs_file = request.urlopen('https://storage.googleapis.com/maps-premium/dataset/yes_complete/song_hash.txt')\n",
        "songs_file = songs_file.read().decode(\"utf-8\").split('\\n')\n",
        "songs = [s.rstrip().split('\\t') for s in songs_file]"
      ],
      "execution_count": null,
      "outputs": []
    },
    {
      "cell_type": "markdown",
      "metadata": {
        "id": "jx0Iu6wgJzSk"
      },
      "source": [
        "Now, `songs` is a list containing the id, title, and artist of every song in our datset. It looks like this:"
      ]
    },
    {
      "cell_type": "code",
      "metadata": {
        "id": "pSSxd6CTJzSk",
        "outputId": "1dc1fbb4-6876-49ff-ac25-b051e3e2ff5b",
        "colab": {
          "base_uri": "https://localhost:8080/"
        }
      },
      "source": [
        "songs[:3]"
      ],
      "execution_count": null,
      "outputs": [
        {
          "output_type": "execute_result",
          "data": {
            "text/plain": [
              "[['0 ', 'Gucci Time (w\\\\/ Swizz Beatz)', 'Gucci Mane'],\n",
              " ['1 ', 'Aston Martin Music (w\\\\/ Drake & Chrisette Michelle)', 'Rick Ross'],\n",
              " ['2 ', 'Get Back Up (w\\\\/ Chris Brown)', 'T.I.']]"
            ]
          },
          "metadata": {
            "tags": []
          },
          "execution_count": 37
        }
      ]
    },
    {
      "cell_type": "markdown",
      "metadata": {
        "id": "wQwC1_y4JzSn"
      },
      "source": [
        "To simplify looking up song titles by ID, we'll define a pandas dataframe to hold song information."
      ]
    },
    {
      "cell_type": "code",
      "metadata": {
        "id": "M1iUpILxJzSo"
      },
      "source": [
        "songs_df = pd.DataFrame(data=songs, columns = ['id', 'title', 'artist'])\n",
        "songs_df = songs_df.set_index('id')"
      ],
      "execution_count": null,
      "outputs": []
    },
    {
      "cell_type": "code",
      "metadata": {
        "id": "fTCf3UEwJzSr",
        "outputId": "70f09f5c-5ede-414e-a0ec-746072fa0f20",
        "colab": {
          "base_uri": "https://localhost:8080/",
          "height": 227
        }
      },
      "source": [
        "songs_df.head()"
      ],
      "execution_count": null,
      "outputs": [
        {
          "output_type": "execute_result",
          "data": {
            "text/html": [
              "<div>\n",
              "<style scoped>\n",
              "    .dataframe tbody tr th:only-of-type {\n",
              "        vertical-align: middle;\n",
              "    }\n",
              "\n",
              "    .dataframe tbody tr th {\n",
              "        vertical-align: top;\n",
              "    }\n",
              "\n",
              "    .dataframe thead th {\n",
              "        text-align: right;\n",
              "    }\n",
              "</style>\n",
              "<table border=\"1\" class=\"dataframe\">\n",
              "  <thead>\n",
              "    <tr style=\"text-align: right;\">\n",
              "      <th></th>\n",
              "      <th>title</th>\n",
              "      <th>artist</th>\n",
              "    </tr>\n",
              "    <tr>\n",
              "      <th>id</th>\n",
              "      <th></th>\n",
              "      <th></th>\n",
              "    </tr>\n",
              "  </thead>\n",
              "  <tbody>\n",
              "    <tr>\n",
              "      <th>0</th>\n",
              "      <td>Gucci Time (w\\/ Swizz Beatz)</td>\n",
              "      <td>Gucci Mane</td>\n",
              "    </tr>\n",
              "    <tr>\n",
              "      <th>1</th>\n",
              "      <td>Aston Martin Music (w\\/ Drake &amp; Chrisette Mich...</td>\n",
              "      <td>Rick Ross</td>\n",
              "    </tr>\n",
              "    <tr>\n",
              "      <th>2</th>\n",
              "      <td>Get Back Up (w\\/ Chris Brown)</td>\n",
              "      <td>T.I.</td>\n",
              "    </tr>\n",
              "    <tr>\n",
              "      <th>3</th>\n",
              "      <td>Hot Toddy (w\\/ Jay-Z &amp; Ester Dean)</td>\n",
              "      <td>Usher</td>\n",
              "    </tr>\n",
              "    <tr>\n",
              "      <th>4</th>\n",
              "      <td>Whip My Hair</td>\n",
              "      <td>Willow</td>\n",
              "    </tr>\n",
              "  </tbody>\n",
              "</table>\n",
              "</div>"
            ],
            "text/plain": [
              "                                                title      artist\n",
              "id                                                               \n",
              "0                        Gucci Time (w\\/ Swizz Beatz)  Gucci Mane\n",
              "1   Aston Martin Music (w\\/ Drake & Chrisette Mich...   Rick Ross\n",
              "2                       Get Back Up (w\\/ Chris Brown)        T.I.\n",
              "3                  Hot Toddy (w\\/ Jay-Z & Ester Dean)       Usher\n",
              "4                                        Whip My Hair      Willow"
            ]
          },
          "metadata": {
            "tags": []
          },
          "execution_count": 39
        }
      ]
    },
    {
      "cell_type": "markdown",
      "metadata": {
        "id": "g5Jw-y1WJzSy"
      },
      "source": [
        "Pandas dataframes give us the ability to easily search through the columns of our dataset. We can look at the songs of a certain artist, for example."
      ]
    },
    {
      "cell_type": "code",
      "metadata": {
        "scrolled": true,
        "id": "IuaxAA7-JzS3",
        "outputId": "94cb8b9e-985c-488b-b75e-ae7ff92500ce",
        "colab": {
          "base_uri": "https://localhost:8080/",
          "height": 227
        }
      },
      "source": [
        "songs_df[songs_df.artist == 'Taylor Swift'].head()"
      ],
      "execution_count": null,
      "outputs": [
        {
          "output_type": "execute_result",
          "data": {
            "text/html": [
              "<div>\n",
              "<style scoped>\n",
              "    .dataframe tbody tr th:only-of-type {\n",
              "        vertical-align: middle;\n",
              "    }\n",
              "\n",
              "    .dataframe tbody tr th {\n",
              "        vertical-align: top;\n",
              "    }\n",
              "\n",
              "    .dataframe thead th {\n",
              "        text-align: right;\n",
              "    }\n",
              "</style>\n",
              "<table border=\"1\" class=\"dataframe\">\n",
              "  <thead>\n",
              "    <tr style=\"text-align: right;\">\n",
              "      <th></th>\n",
              "      <th>title</th>\n",
              "      <th>artist</th>\n",
              "    </tr>\n",
              "    <tr>\n",
              "      <th>id</th>\n",
              "      <th></th>\n",
              "      <th></th>\n",
              "    </tr>\n",
              "  </thead>\n",
              "  <tbody>\n",
              "    <tr>\n",
              "      <th>2189</th>\n",
              "      <td>Mine</td>\n",
              "      <td>Taylor Swift</td>\n",
              "    </tr>\n",
              "    <tr>\n",
              "      <th>2253</th>\n",
              "      <td>Tim McGraw</td>\n",
              "      <td>Taylor Swift</td>\n",
              "    </tr>\n",
              "    <tr>\n",
              "      <th>2277</th>\n",
              "      <td>Love Story</td>\n",
              "      <td>Taylor Swift</td>\n",
              "    </tr>\n",
              "    <tr>\n",
              "      <th>2404</th>\n",
              "      <td>Picture to Burn</td>\n",
              "      <td>Taylor Swift</td>\n",
              "    </tr>\n",
              "    <tr>\n",
              "      <th>2413</th>\n",
              "      <td>Should've Said No</td>\n",
              "      <td>Taylor Swift</td>\n",
              "    </tr>\n",
              "  </tbody>\n",
              "</table>\n",
              "</div>"
            ],
            "text/plain": [
              "                   title        artist\n",
              "id                                    \n",
              "2189                Mine  Taylor Swift\n",
              "2253          Tim McGraw  Taylor Swift\n",
              "2277          Love Story  Taylor Swift\n",
              "2404     Picture to Burn  Taylor Swift\n",
              "2413   Should've Said No  Taylor Swift"
            ]
          },
          "metadata": {
            "tags": []
          },
          "execution_count": 40
        }
      ]
    },
    {
      "cell_type": "markdown",
      "metadata": {
        "id": "8CcB_zlwJzS6"
      },
      "source": [
        "### Looking up songs by their IDs\n",
        "Pandas also give us the ability to retrieve the information of multiple songs by passing their ids. Let's for example retrieve the info for songs number 1, 10, and 100."
      ]
    },
    {
      "cell_type": "code",
      "metadata": {
        "id": "3B4DxzDbJzS7",
        "outputId": "226ded79-3a53-4df1-9eb5-59cfd40a74b9",
        "colab": {
          "base_uri": "https://localhost:8080/",
          "height": 167
        }
      },
      "source": [
        "songs_df.iloc[[1,10,58]]"
      ],
      "execution_count": null,
      "outputs": [
        {
          "output_type": "execute_result",
          "data": {
            "text/html": [
              "<div>\n",
              "<style scoped>\n",
              "    .dataframe tbody tr th:only-of-type {\n",
              "        vertical-align: middle;\n",
              "    }\n",
              "\n",
              "    .dataframe tbody tr th {\n",
              "        vertical-align: top;\n",
              "    }\n",
              "\n",
              "    .dataframe thead th {\n",
              "        text-align: right;\n",
              "    }\n",
              "</style>\n",
              "<table border=\"1\" class=\"dataframe\">\n",
              "  <thead>\n",
              "    <tr style=\"text-align: right;\">\n",
              "      <th></th>\n",
              "      <th>title</th>\n",
              "      <th>artist</th>\n",
              "    </tr>\n",
              "    <tr>\n",
              "      <th>id</th>\n",
              "      <th></th>\n",
              "      <th></th>\n",
              "    </tr>\n",
              "  </thead>\n",
              "  <tbody>\n",
              "    <tr>\n",
              "      <th>1</th>\n",
              "      <td>Aston Martin Music (w\\/ Drake &amp; Chrisette Mich...</td>\n",
              "      <td>Rick Ross</td>\n",
              "    </tr>\n",
              "    <tr>\n",
              "      <th>10</th>\n",
              "      <td>Shake It</td>\n",
              "      <td>Elephant Man</td>\n",
              "    </tr>\n",
              "    <tr>\n",
              "      <th>58</th>\n",
              "      <td>Love Is Blind</td>\n",
              "      <td>Eve</td>\n",
              "    </tr>\n",
              "  </tbody>\n",
              "</table>\n",
              "</div>"
            ],
            "text/plain": [
              "                                                 title        artist\n",
              "id                                                                  \n",
              "1    Aston Martin Music (w\\/ Drake & Chrisette Mich...     Rick Ross\n",
              "10                                            Shake It  Elephant Man\n",
              "58                                       Love Is Blind           Eve"
            ]
          },
          "metadata": {
            "tags": []
          },
          "execution_count": 41
        }
      ]
    },
    {
      "cell_type": "markdown",
      "metadata": {
        "id": "YEgExcykJzS-"
      },
      "source": [
        "## Recommending Similar Songs\n",
        "Let's now pick a song, and see what similar songs the model recommends"
      ]
    },
    {
      "cell_type": "code",
      "metadata": {
        "id": "5_n6cAoEJzS_",
        "outputId": "aebde5b0-689c-4f37-fb41-0a2d1577538f",
        "colab": {
          "base_uri": "https://localhost:8080/"
        }
      },
      "source": [
        "songs_df.iloc[2172]"
      ],
      "execution_count": null,
      "outputs": [
        {
          "output_type": "execute_result",
          "data": {
            "text/plain": [
              "title     Fade To Black\n",
              "artist        Metallica\n",
              "Name: 2172 , dtype: object"
            ]
          },
          "metadata": {
            "tags": []
          },
          "execution_count": 43
        }
      ]
    },
    {
      "cell_type": "code",
      "metadata": {
        "id": "CfeCwtSWJzTC",
        "outputId": "7c1c2900-8a3f-4471-f924-4e97ff9ab330",
        "colab": {
          "base_uri": "https://localhost:8080/"
        }
      },
      "source": [
        "song_id = 2172\n",
        "\n",
        "# Ask the model for songs similar to song #2172\n",
        "model.wv.most_similar(positive=str(song_id))"
      ],
      "execution_count": null,
      "outputs": [
        {
          "output_type": "execute_result",
          "data": {
            "text/plain": [
              "[('5549', 0.9995133876800537),\n",
              " ('5586', 0.9984676837921143),\n",
              " ('5634', 0.9981622695922852),\n",
              " ('3167', 0.9977067708969116),\n",
              " ('2014', 0.9971413612365723),\n",
              " ('11502', 0.9970285892486572),\n",
              " ('1922', 0.9967612028121948),\n",
              " ('6658', 0.9965383410453796),\n",
              " ('2849', 0.996526837348938),\n",
              " ('2063', 0.9963899254798889)]"
            ]
          },
          "metadata": {
            "tags": []
          },
          "execution_count": 44
        }
      ]
    },
    {
      "cell_type": "markdown",
      "metadata": {
        "id": "Z-K9IcajJzTF"
      },
      "source": [
        "Let's look up the titles and artists of these songs:"
      ]
    },
    {
      "cell_type": "code",
      "metadata": {
        "id": "NNY1IUS1JzTG",
        "outputId": "d9f43a6d-667e-4680-c08b-385a4178066c",
        "colab": {
          "base_uri": "https://localhost:8080/",
          "height": 377
        }
      },
      "source": [
        "similar_songs = np.array(model.wv.most_similar(positive=str(song_id)))[:,0]\n",
        "songs_df.iloc[similar_songs]"
      ],
      "execution_count": null,
      "outputs": [
        {
          "output_type": "execute_result",
          "data": {
            "text/html": [
              "<div>\n",
              "<style scoped>\n",
              "    .dataframe tbody tr th:only-of-type {\n",
              "        vertical-align: middle;\n",
              "    }\n",
              "\n",
              "    .dataframe tbody tr th {\n",
              "        vertical-align: top;\n",
              "    }\n",
              "\n",
              "    .dataframe thead th {\n",
              "        text-align: right;\n",
              "    }\n",
              "</style>\n",
              "<table border=\"1\" class=\"dataframe\">\n",
              "  <thead>\n",
              "    <tr style=\"text-align: right;\">\n",
              "      <th></th>\n",
              "      <th>title</th>\n",
              "      <th>artist</th>\n",
              "    </tr>\n",
              "    <tr>\n",
              "      <th>id</th>\n",
              "      <th></th>\n",
              "      <th></th>\n",
              "    </tr>\n",
              "  </thead>\n",
              "  <tbody>\n",
              "    <tr>\n",
              "      <th>5549</th>\n",
              "      <td>November Rain</td>\n",
              "      <td>Guns N' Roses</td>\n",
              "    </tr>\n",
              "    <tr>\n",
              "      <th>5586</th>\n",
              "      <td>The Last In Line</td>\n",
              "      <td>Dio</td>\n",
              "    </tr>\n",
              "    <tr>\n",
              "      <th>5634</th>\n",
              "      <td>Mr. Brownstone</td>\n",
              "      <td>Guns N' Roses</td>\n",
              "    </tr>\n",
              "    <tr>\n",
              "      <th>3167</th>\n",
              "      <td>Unchained</td>\n",
              "      <td>Van Halen</td>\n",
              "    </tr>\n",
              "    <tr>\n",
              "      <th>2014</th>\n",
              "      <td>Youth Gone Wild</td>\n",
              "      <td>Skid Row</td>\n",
              "    </tr>\n",
              "    <tr>\n",
              "      <th>11502</th>\n",
              "      <td>Turbo Lover</td>\n",
              "      <td>Judas Priest</td>\n",
              "    </tr>\n",
              "    <tr>\n",
              "      <th>1922</th>\n",
              "      <td>One</td>\n",
              "      <td>Metallica</td>\n",
              "    </tr>\n",
              "    <tr>\n",
              "      <th>6658</th>\n",
              "      <td>(Bang Your Head) Metal Health</td>\n",
              "      <td>Quiet Riot</td>\n",
              "    </tr>\n",
              "    <tr>\n",
              "      <th>2849</th>\n",
              "      <td>Run To The Hills</td>\n",
              "      <td>Iron Maiden</td>\n",
              "    </tr>\n",
              "    <tr>\n",
              "      <th>2063</th>\n",
              "      <td>Cemetery Gates</td>\n",
              "      <td>Pantera</td>\n",
              "    </tr>\n",
              "  </tbody>\n",
              "</table>\n",
              "</div>"
            ],
            "text/plain": [
              "                                title         artist\n",
              "id                                                  \n",
              "5549                    November Rain  Guns N' Roses\n",
              "5586                 The Last In Line            Dio\n",
              "5634                   Mr. Brownstone  Guns N' Roses\n",
              "3167                        Unchained      Van Halen\n",
              "2014                  Youth Gone Wild       Skid Row\n",
              "11502                     Turbo Lover   Judas Priest\n",
              "1922                              One      Metallica\n",
              "6658    (Bang Your Head) Metal Health     Quiet Riot\n",
              "2849                 Run To The Hills    Iron Maiden\n",
              "2063                   Cemetery Gates        Pantera"
            ]
          },
          "metadata": {
            "tags": []
          },
          "execution_count": 45
        }
      ]
    },
    {
      "cell_type": "markdown",
      "metadata": {
        "id": "t7Ubu5OUJzTI"
      },
      "source": [
        "Let's define a function that prints out both the song title and the recommendations based on it:\n"
      ]
    },
    {
      "cell_type": "code",
      "metadata": {
        "id": "Fk9rEnlqJzTJ"
      },
      "source": [
        "def print_recommendations(song_id):\n",
        "    print( songs_df.iloc[song_id] )\n",
        "    similar_songs = np.array(model.wv.most_similar(positive=str(song_id)))[:,0]\n",
        "    return  songs_df.iloc[similar_songs] \n"
      ],
      "execution_count": null,
      "outputs": []
    },
    {
      "cell_type": "markdown",
      "metadata": {
        "id": "k2R6D_g9JzTL"
      },
      "source": [
        "## More Example Recommendations\n",
        "\n",
        "### Paranoid Android - Radiohead"
      ]
    },
    {
      "cell_type": "code",
      "metadata": {
        "id": "oX7Y6eKLJzTM",
        "outputId": "c3a7c5a1-abf8-4cc3-aaff-0008f32ba917",
        "colab": {
          "base_uri": "https://localhost:8080/",
          "height": 431
        }
      },
      "source": [
        "print_recommendations(19563)"
      ],
      "execution_count": null,
      "outputs": [
        {
          "output_type": "stream",
          "text": [
            "title     Paranoid Android\n",
            "artist           Radiohead\n",
            "Name: 19563 , dtype: object\n"
          ],
          "name": "stdout"
        },
        {
          "output_type": "execute_result",
          "data": {
            "text/html": [
              "<div>\n",
              "<style scoped>\n",
              "    .dataframe tbody tr th:only-of-type {\n",
              "        vertical-align: middle;\n",
              "    }\n",
              "\n",
              "    .dataframe tbody tr th {\n",
              "        vertical-align: top;\n",
              "    }\n",
              "\n",
              "    .dataframe thead th {\n",
              "        text-align: right;\n",
              "    }\n",
              "</style>\n",
              "<table border=\"1\" class=\"dataframe\">\n",
              "  <thead>\n",
              "    <tr style=\"text-align: right;\">\n",
              "      <th></th>\n",
              "      <th>title</th>\n",
              "      <th>artist</th>\n",
              "    </tr>\n",
              "    <tr>\n",
              "      <th>id</th>\n",
              "      <th></th>\n",
              "      <th></th>\n",
              "    </tr>\n",
              "  </thead>\n",
              "  <tbody>\n",
              "    <tr>\n",
              "      <th>18238</th>\n",
              "      <td>New Fang</td>\n",
              "      <td>Them Crooked Vultures</td>\n",
              "    </tr>\n",
              "    <tr>\n",
              "      <th>1986</th>\n",
              "      <td>Unsung</td>\n",
              "      <td>Helmet</td>\n",
              "    </tr>\n",
              "    <tr>\n",
              "      <th>2054</th>\n",
              "      <td>Guilty</td>\n",
              "      <td>Gravity Kills</td>\n",
              "    </tr>\n",
              "    <tr>\n",
              "      <th>12891</th>\n",
              "      <td>Month Of May</td>\n",
              "      <td>Arcade Fire</td>\n",
              "    </tr>\n",
              "    <tr>\n",
              "      <th>40245</th>\n",
              "      <td>Gold Gun Girls</td>\n",
              "      <td>Metric</td>\n",
              "    </tr>\n",
              "    <tr>\n",
              "      <th>34196</th>\n",
              "      <td>Two Against One (w\\/ Jack White)</td>\n",
              "      <td>Rome</td>\n",
              "    </tr>\n",
              "    <tr>\n",
              "      <th>10194</th>\n",
              "      <td>Drunken Lullabies</td>\n",
              "      <td>Flogging Molly</td>\n",
              "    </tr>\n",
              "    <tr>\n",
              "      <th>16378</th>\n",
              "      <td>The Royal We</td>\n",
              "      <td>Silversun Pickups</td>\n",
              "    </tr>\n",
              "    <tr>\n",
              "      <th>38877</th>\n",
              "      <td>No New Tale To Tell</td>\n",
              "      <td>Love And Rockets</td>\n",
              "    </tr>\n",
              "    <tr>\n",
              "      <th>3229</th>\n",
              "      <td>Easy Skanking</td>\n",
              "      <td>Bob Marley &amp; The Wailers</td>\n",
              "    </tr>\n",
              "  </tbody>\n",
              "</table>\n",
              "</div>"
            ],
            "text/plain": [
              "                                   title                    artist\n",
              "id                                                                \n",
              "18238                           New Fang     Them Crooked Vultures\n",
              "1986                              Unsung                    Helmet\n",
              "2054                              Guilty             Gravity Kills\n",
              "12891                       Month Of May               Arcade Fire\n",
              "40245                     Gold Gun Girls                    Metric\n",
              "34196   Two Against One (w\\/ Jack White)                      Rome\n",
              "10194                  Drunken Lullabies            Flogging Molly\n",
              "16378                       The Royal We         Silversun Pickups\n",
              "38877                No New Tale To Tell          Love And Rockets\n",
              "3229                       Easy Skanking  Bob Marley & The Wailers"
            ]
          },
          "metadata": {
            "tags": []
          },
          "execution_count": 47
        }
      ]
    },
    {
      "cell_type": "markdown",
      "metadata": {
        "id": "zDTdwsUnJzTU"
      },
      "source": [
        "### California Love - 2Pac"
      ]
    },
    {
      "cell_type": "code",
      "metadata": {
        "id": "gsSRrnv2JzTW",
        "outputId": "6d01bf78-942c-4498-d44d-f60b0753acbf",
        "colab": {
          "base_uri": "https://localhost:8080/",
          "height": 431
        }
      },
      "source": [
        "print_recommendations(842)"
      ],
      "execution_count": null,
      "outputs": [
        {
          "output_type": "stream",
          "text": [
            "title     California Love (w\\/ Dr. Dre & Roger Troutman)\n",
            "artist                                              2Pac\n",
            "Name: 842 , dtype: object\n"
          ],
          "name": "stdout"
        },
        {
          "output_type": "execute_result",
          "data": {
            "text/html": [
              "<div>\n",
              "<style scoped>\n",
              "    .dataframe tbody tr th:only-of-type {\n",
              "        vertical-align: middle;\n",
              "    }\n",
              "\n",
              "    .dataframe tbody tr th {\n",
              "        vertical-align: top;\n",
              "    }\n",
              "\n",
              "    .dataframe thead th {\n",
              "        text-align: right;\n",
              "    }\n",
              "</style>\n",
              "<table border=\"1\" class=\"dataframe\">\n",
              "  <thead>\n",
              "    <tr style=\"text-align: right;\">\n",
              "      <th></th>\n",
              "      <th>title</th>\n",
              "      <th>artist</th>\n",
              "    </tr>\n",
              "    <tr>\n",
              "      <th>id</th>\n",
              "      <th></th>\n",
              "      <th></th>\n",
              "    </tr>\n",
              "  </thead>\n",
              "  <tbody>\n",
              "    <tr>\n",
              "      <th>12335</th>\n",
              "      <td>King Of The Dancehall</td>\n",
              "      <td>Beenie Man</td>\n",
              "    </tr>\n",
              "    <tr>\n",
              "      <th>5890</th>\n",
              "      <td>Low (w\\/ T-Pain)</td>\n",
              "      <td>Flo-Rida</td>\n",
              "    </tr>\n",
              "    <tr>\n",
              "      <th>5684</th>\n",
              "      <td>Sexy Can I (w\\/ Yung Berg)</td>\n",
              "      <td>Ray J</td>\n",
              "    </tr>\n",
              "    <tr>\n",
              "      <th>5698</th>\n",
              "      <td>Turnin' Me On (w\\/ Lil Wayne)</td>\n",
              "      <td>Keri Hilson</td>\n",
              "    </tr>\n",
              "    <tr>\n",
              "      <th>329</th>\n",
              "      <td>Stronger</td>\n",
              "      <td>Kanye West</td>\n",
              "    </tr>\n",
              "    <tr>\n",
              "      <th>23358</th>\n",
              "      <td>Aunque No Te Pueda Ver</td>\n",
              "      <td>Alex Ubago</td>\n",
              "    </tr>\n",
              "    <tr>\n",
              "      <th>26355</th>\n",
              "      <td>Hello (w\\/ Dragonette)</td>\n",
              "      <td>Martin Solveig</td>\n",
              "    </tr>\n",
              "    <tr>\n",
              "      <th>5710</th>\n",
              "      <td>Telephone (w\\/ Beyonce)</td>\n",
              "      <td>Lady Gaga</td>\n",
              "    </tr>\n",
              "    <tr>\n",
              "      <th>14025</th>\n",
              "      <td>Siete Horas</td>\n",
              "      <td>Bebe</td>\n",
              "    </tr>\n",
              "    <tr>\n",
              "      <th>23316</th>\n",
              "      <td>Eenie Meenie (w\\/ Sean Kingston)</td>\n",
              "      <td>Justin Bieber</td>\n",
              "    </tr>\n",
              "  </tbody>\n",
              "</table>\n",
              "</div>"
            ],
            "text/plain": [
              "                                   title          artist\n",
              "id                                                      \n",
              "12335              King Of The Dancehall      Beenie Man\n",
              "5890                    Low (w\\/ T-Pain)        Flo-Rida\n",
              "5684          Sexy Can I (w\\/ Yung Berg)           Ray J\n",
              "5698       Turnin' Me On (w\\/ Lil Wayne)     Keri Hilson\n",
              "329                             Stronger      Kanye West\n",
              "23358             Aunque No Te Pueda Ver      Alex Ubago\n",
              "26355             Hello (w\\/ Dragonette)  Martin Solveig\n",
              "5710             Telephone (w\\/ Beyonce)       Lady Gaga\n",
              "14025                        Siete Horas            Bebe\n",
              "23316   Eenie Meenie (w\\/ Sean Kingston)   Justin Bieber"
            ]
          },
          "metadata": {
            "tags": []
          },
          "execution_count": 17
        }
      ]
    },
    {
      "cell_type": "markdown",
      "metadata": {
        "id": "NiQe6W-IJzTY"
      },
      "source": [
        "### Billie Jean - Michael Jackson"
      ]
    },
    {
      "cell_type": "code",
      "metadata": {
        "id": "Qa6uAAuxJzTZ",
        "outputId": "407b2db8-94d3-4081-e98f-dd95f2e22402",
        "colab": {
          "base_uri": "https://localhost:8080/",
          "height": 441
        }
      },
      "source": [
        "print_recommendations(3822)"
      ],
      "execution_count": null,
      "outputs": [
        {
          "output_type": "stream",
          "text": [
            "title         Billie Jean\n",
            "artist    Michael Jackson\n",
            "Name: 3822 , dtype: object\n"
          ],
          "name": "stdout"
        },
        {
          "output_type": "execute_result",
          "data": {
            "text/html": [
              "<div>\n",
              "<style scoped>\n",
              "    .dataframe tbody tr th:only-of-type {\n",
              "        vertical-align: middle;\n",
              "    }\n",
              "\n",
              "    .dataframe tbody tr th {\n",
              "        vertical-align: top;\n",
              "    }\n",
              "\n",
              "    .dataframe thead th {\n",
              "        text-align: right;\n",
              "    }\n",
              "</style>\n",
              "<table border=\"1\" class=\"dataframe\">\n",
              "  <thead>\n",
              "    <tr style=\"text-align: right;\">\n",
              "      <th></th>\n",
              "      <th>title</th>\n",
              "      <th>artist</th>\n",
              "    </tr>\n",
              "    <tr>\n",
              "      <th>id</th>\n",
              "      <th></th>\n",
              "      <th></th>\n",
              "    </tr>\n",
              "  </thead>\n",
              "  <tbody>\n",
              "    <tr>\n",
              "      <th>12749</th>\n",
              "      <td>Wanna Be Startin' Somethin'</td>\n",
              "      <td>Michael Jackson</td>\n",
              "    </tr>\n",
              "    <tr>\n",
              "      <th>4181</th>\n",
              "      <td>Kiss</td>\n",
              "      <td>Prince &amp; The Revolution</td>\n",
              "    </tr>\n",
              "    <tr>\n",
              "      <th>4187</th>\n",
              "      <td>I Wanna Dance With Somebody (Who Loves Me)</td>\n",
              "      <td>Whitney Houston</td>\n",
              "    </tr>\n",
              "    <tr>\n",
              "      <th>1506</th>\n",
              "      <td>The Way You Make Me Feel</td>\n",
              "      <td>Michael Jackson</td>\n",
              "    </tr>\n",
              "    <tr>\n",
              "      <th>3358</th>\n",
              "      <td>Maneater</td>\n",
              "      <td>Daryl Hall &amp; John Oates</td>\n",
              "    </tr>\n",
              "    <tr>\n",
              "      <th>3924</th>\n",
              "      <td>Broken Wings</td>\n",
              "      <td>Mr. Mister</td>\n",
              "    </tr>\n",
              "    <tr>\n",
              "      <th>3357</th>\n",
              "      <td>Manic Monday</td>\n",
              "      <td>The Bangles</td>\n",
              "    </tr>\n",
              "    <tr>\n",
              "      <th>15660</th>\n",
              "      <td>Let The Music Play</td>\n",
              "      <td>Shannon</td>\n",
              "    </tr>\n",
              "    <tr>\n",
              "      <th>500</th>\n",
              "      <td>Don't Stop 'Til You Get Enough</td>\n",
              "      <td>Michael Jackson</td>\n",
              "    </tr>\n",
              "    <tr>\n",
              "      <th>3809</th>\n",
              "      <td>Super Freak</td>\n",
              "      <td>Rick James</td>\n",
              "    </tr>\n",
              "  </tbody>\n",
              "</table>\n",
              "</div>"
            ],
            "text/plain": [
              "                                             title                   artist\n",
              "id                                                                         \n",
              "12749                  Wanna Be Startin' Somethin'          Michael Jackson\n",
              "4181                                          Kiss  Prince & The Revolution\n",
              "4187    I Wanna Dance With Somebody (Who Loves Me)          Whitney Houston\n",
              "1506                      The Way You Make Me Feel          Michael Jackson\n",
              "3358                                      Maneater  Daryl Hall & John Oates\n",
              "3924                                  Broken Wings               Mr. Mister\n",
              "3357                                  Manic Monday              The Bangles\n",
              "15660                           Let The Music Play                  Shannon\n",
              "500                 Don't Stop 'Til You Get Enough          Michael Jackson\n",
              "3809                                   Super Freak               Rick James"
            ]
          },
          "metadata": {
            "tags": []
          },
          "execution_count": 19
        }
      ]
    },
    {
      "cell_type": "code",
      "metadata": {
        "id": "_SSG3p0_Yrtw"
      },
      "source": [
        ""
      ],
      "execution_count": null,
      "outputs": []
    }
  ]
}